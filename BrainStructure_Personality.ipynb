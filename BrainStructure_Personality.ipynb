{
  "cells": [
    {
      "cell_type": "code",
      "execution_count": 42,
      "metadata": {
        "id": "-k30xaop8f-Q"
      },
      "outputs": [],
      "source": [
        "\n",
        "\n",
        "\n",
        "import numpy as np\n",
        "import pandas as pd\n",
        "import tensorflow as tf\n",
        "import tensorflow_addons as tfa\n",
        "import matplotlib.pyplot as plt\n",
        "from sklearn.compose import make_column_transformer\n",
        "from sklearn.compose import ColumnTransformer\n",
        "from sklearn.preprocessing import MinMaxScaler, StandardScaler\n",
        "from sklearn.model_selection import train_test_split\n",
        "from sklearn.pipeline import Pipeline\n",
        "from sklearn.linear_model import LinearRegression\n",
        "from sklearn.model_selection import GridSearchCV\n",
        "from sklearn.metrics import mean_absolute_error\n",
        "from sklearn.metrics import mean_squared_error\n",
        "from sklearn.neighbors import KNeighborsRegressor\n",
        "from keras import callbacks"
      ]
    },
    {
      "cell_type": "code",
      "execution_count": 7,
      "metadata": {
        "id": "7nuwyz9L8f_i"
      },
      "outputs": [],
      "source": [
        "data  = pd.read_csv('BrainStructures_data.csv')"
      ]
    },
    {
      "cell_type": "code",
      "execution_count": 8,
      "metadata": {
        "id": "9_GvPhCa8f_k"
      },
      "outputs": [],
      "source": [
        "features = data.iloc[:,191:390] #all columns related to volume, size or thickness of an area of the brain\n",
        "response = data[['NEOFAC_A', 'NEOFAC_O', 'NEOFAC_C', 'NEOFAC_N', 'NEOFAC_E']] #Big Five Personality Types\n",
        "\n",
        "df = pd.merge(features, response, how = 'inner', left_index = True, right_index = True)"
      ]
    },
    {
      "cell_type": "code",
      "execution_count": 9,
      "metadata": {
        "colab": {
          "base_uri": "https://localhost:8080/"
        },
        "id": "TbLf5RAD8f_4",
        "outputId": "f4970d95-4ef4-4aca-8e0b-cb80e908095e"
      },
      "outputs": [
        {
          "data": {
            "text/plain": [
              "FS_IntraCranial_Vol             93\n",
              "FS_BrainSeg_Vol                 93\n",
              "FS_BrainSeg_Vol_No_Vent         93\n",
              "FS_BrainSeg_Vol_No_Vent_Surf    93\n",
              "FS_LCort_GM_Vol                 93\n",
              "                                ..\n",
              "FS_R_Supramarginal_Area         93\n",
              "FS_R_Frontalpole_Area           93\n",
              "FS_R_Temporalpole_Area          93\n",
              "FS_R_Transversetemporal_Area    93\n",
              "FS_R_Insula_Area                93\n",
              "Length: 199, dtype: int64"
            ]
          },
          "execution_count": 9,
          "metadata": {},
          "output_type": "execute_result"
        }
      ],
      "source": [
        "features.isnull().sum()"
      ]
    },
    {
      "cell_type": "markdown",
      "metadata": {
        "id": "o77F9fj28gAF"
      },
      "source": [
        "## <span style = 'color: DodgerBlue'> Exploratory Analysis & Preprocessing"
      ]
    },
    {
      "cell_type": "code",
      "execution_count": 10,
      "metadata": {
        "colab": {
          "base_uri": "https://localhost:8080/"
        },
        "id": "9aGhn6l18gAT",
        "outputId": "bcaea4fd-bc93-4ef8-84be-6bc35d7f8177"
      },
      "outputs": [
        {
          "data": {
            "text/plain": [
              "((1206, 204), (1206, 204))"
            ]
          },
          "execution_count": 10,
          "metadata": {},
          "output_type": "execute_result"
        }
      ],
      "source": [
        "df.shape,   df.select_dtypes('float64').shape"
      ]
    },
    {
      "cell_type": "code",
      "execution_count": 11,
      "metadata": {
        "colab": {
          "base_uri": "https://localhost:8080/",
          "height": 300
        },
        "id": "bAGiK-wt8gAU",
        "outputId": "6d7e6a88-ee53-4166-bb52-f2af6d24e877"
      },
      "outputs": [
        {
          "data": {
            "text/html": [
              "<div>\n",
              "<style scoped>\n",
              "    .dataframe tbody tr th:only-of-type {\n",
              "        vertical-align: middle;\n",
              "    }\n",
              "\n",
              "    .dataframe tbody tr th {\n",
              "        vertical-align: top;\n",
              "    }\n",
              "\n",
              "    .dataframe thead th {\n",
              "        text-align: right;\n",
              "    }\n",
              "</style>\n",
              "<table border=\"1\" class=\"dataframe\">\n",
              "  <thead>\n",
              "    <tr style=\"text-align: right;\">\n",
              "      <th></th>\n",
              "      <th>FS_IntraCranial_Vol</th>\n",
              "      <th>FS_BrainSeg_Vol</th>\n",
              "      <th>FS_BrainSeg_Vol_No_Vent</th>\n",
              "      <th>FS_BrainSeg_Vol_No_Vent_Surf</th>\n",
              "      <th>FS_LCort_GM_Vol</th>\n",
              "      <th>FS_RCort_GM_Vol</th>\n",
              "      <th>FS_TotCort_GM_Vol</th>\n",
              "      <th>FS_SubCort_GM_Vol</th>\n",
              "      <th>FS_Total_GM_Vol</th>\n",
              "      <th>FS_SupraTentorial_Vol</th>\n",
              "      <th>...</th>\n",
              "      <th>FS_R_Supramarginal_Area</th>\n",
              "      <th>FS_R_Frontalpole_Area</th>\n",
              "      <th>FS_R_Temporalpole_Area</th>\n",
              "      <th>FS_R_Transversetemporal_Area</th>\n",
              "      <th>FS_R_Insula_Area</th>\n",
              "      <th>NEOFAC_A</th>\n",
              "      <th>NEOFAC_O</th>\n",
              "      <th>NEOFAC_C</th>\n",
              "      <th>NEOFAC_N</th>\n",
              "      <th>NEOFAC_E</th>\n",
              "    </tr>\n",
              "  </thead>\n",
              "  <tbody>\n",
              "    <tr>\n",
              "      <th>0</th>\n",
              "      <td>NaN</td>\n",
              "      <td>NaN</td>\n",
              "      <td>NaN</td>\n",
              "      <td>NaN</td>\n",
              "      <td>NaN</td>\n",
              "      <td>NaN</td>\n",
              "      <td>NaN</td>\n",
              "      <td>NaN</td>\n",
              "      <td>NaN</td>\n",
              "      <td>NaN</td>\n",
              "      <td>...</td>\n",
              "      <td>NaN</td>\n",
              "      <td>NaN</td>\n",
              "      <td>NaN</td>\n",
              "      <td>NaN</td>\n",
              "      <td>NaN</td>\n",
              "      <td>27.0</td>\n",
              "      <td>15.0</td>\n",
              "      <td>28.0</td>\n",
              "      <td>24.0</td>\n",
              "      <td>25.0</td>\n",
              "    </tr>\n",
              "    <tr>\n",
              "      <th>7</th>\n",
              "      <td>NaN</td>\n",
              "      <td>NaN</td>\n",
              "      <td>NaN</td>\n",
              "      <td>NaN</td>\n",
              "      <td>NaN</td>\n",
              "      <td>NaN</td>\n",
              "      <td>NaN</td>\n",
              "      <td>NaN</td>\n",
              "      <td>NaN</td>\n",
              "      <td>NaN</td>\n",
              "      <td>...</td>\n",
              "      <td>NaN</td>\n",
              "      <td>NaN</td>\n",
              "      <td>NaN</td>\n",
              "      <td>NaN</td>\n",
              "      <td>NaN</td>\n",
              "      <td>32.0</td>\n",
              "      <td>37.0</td>\n",
              "      <td>34.0</td>\n",
              "      <td>15.0</td>\n",
              "      <td>28.0</td>\n",
              "    </tr>\n",
              "    <tr>\n",
              "      <th>10</th>\n",
              "      <td>NaN</td>\n",
              "      <td>NaN</td>\n",
              "      <td>NaN</td>\n",
              "      <td>NaN</td>\n",
              "      <td>NaN</td>\n",
              "      <td>NaN</td>\n",
              "      <td>NaN</td>\n",
              "      <td>NaN</td>\n",
              "      <td>NaN</td>\n",
              "      <td>NaN</td>\n",
              "      <td>...</td>\n",
              "      <td>NaN</td>\n",
              "      <td>NaN</td>\n",
              "      <td>NaN</td>\n",
              "      <td>NaN</td>\n",
              "      <td>NaN</td>\n",
              "      <td>33.0</td>\n",
              "      <td>17.0</td>\n",
              "      <td>37.0</td>\n",
              "      <td>21.0</td>\n",
              "      <td>31.0</td>\n",
              "    </tr>\n",
              "    <tr>\n",
              "      <th>26</th>\n",
              "      <td>NaN</td>\n",
              "      <td>NaN</td>\n",
              "      <td>NaN</td>\n",
              "      <td>NaN</td>\n",
              "      <td>NaN</td>\n",
              "      <td>NaN</td>\n",
              "      <td>NaN</td>\n",
              "      <td>NaN</td>\n",
              "      <td>NaN</td>\n",
              "      <td>NaN</td>\n",
              "      <td>...</td>\n",
              "      <td>NaN</td>\n",
              "      <td>NaN</td>\n",
              "      <td>NaN</td>\n",
              "      <td>NaN</td>\n",
              "      <td>NaN</td>\n",
              "      <td>26.0</td>\n",
              "      <td>18.0</td>\n",
              "      <td>27.0</td>\n",
              "      <td>18.0</td>\n",
              "      <td>26.0</td>\n",
              "    </tr>\n",
              "    <tr>\n",
              "      <th>35</th>\n",
              "      <td>NaN</td>\n",
              "      <td>NaN</td>\n",
              "      <td>NaN</td>\n",
              "      <td>NaN</td>\n",
              "      <td>NaN</td>\n",
              "      <td>NaN</td>\n",
              "      <td>NaN</td>\n",
              "      <td>NaN</td>\n",
              "      <td>NaN</td>\n",
              "      <td>NaN</td>\n",
              "      <td>...</td>\n",
              "      <td>NaN</td>\n",
              "      <td>NaN</td>\n",
              "      <td>NaN</td>\n",
              "      <td>NaN</td>\n",
              "      <td>NaN</td>\n",
              "      <td>32.0</td>\n",
              "      <td>24.0</td>\n",
              "      <td>47.0</td>\n",
              "      <td>12.0</td>\n",
              "      <td>33.0</td>\n",
              "    </tr>\n",
              "  </tbody>\n",
              "</table>\n",
              "<p>5 rows × 204 columns</p>\n",
              "</div>"
            ],
            "text/plain": [
              "    FS_IntraCranial_Vol  FS_BrainSeg_Vol  FS_BrainSeg_Vol_No_Vent  \\\n",
              "0                   NaN              NaN                      NaN   \n",
              "7                   NaN              NaN                      NaN   \n",
              "10                  NaN              NaN                      NaN   \n",
              "26                  NaN              NaN                      NaN   \n",
              "35                  NaN              NaN                      NaN   \n",
              "\n",
              "    FS_BrainSeg_Vol_No_Vent_Surf  FS_LCort_GM_Vol  FS_RCort_GM_Vol  \\\n",
              "0                            NaN              NaN              NaN   \n",
              "7                            NaN              NaN              NaN   \n",
              "10                           NaN              NaN              NaN   \n",
              "26                           NaN              NaN              NaN   \n",
              "35                           NaN              NaN              NaN   \n",
              "\n",
              "    FS_TotCort_GM_Vol  FS_SubCort_GM_Vol  FS_Total_GM_Vol  \\\n",
              "0                 NaN                NaN              NaN   \n",
              "7                 NaN                NaN              NaN   \n",
              "10                NaN                NaN              NaN   \n",
              "26                NaN                NaN              NaN   \n",
              "35                NaN                NaN              NaN   \n",
              "\n",
              "    FS_SupraTentorial_Vol  ...  FS_R_Supramarginal_Area  \\\n",
              "0                     NaN  ...                      NaN   \n",
              "7                     NaN  ...                      NaN   \n",
              "10                    NaN  ...                      NaN   \n",
              "26                    NaN  ...                      NaN   \n",
              "35                    NaN  ...                      NaN   \n",
              "\n",
              "    FS_R_Frontalpole_Area  FS_R_Temporalpole_Area  \\\n",
              "0                     NaN                     NaN   \n",
              "7                     NaN                     NaN   \n",
              "10                    NaN                     NaN   \n",
              "26                    NaN                     NaN   \n",
              "35                    NaN                     NaN   \n",
              "\n",
              "    FS_R_Transversetemporal_Area  FS_R_Insula_Area  NEOFAC_A  NEOFAC_O  \\\n",
              "0                            NaN               NaN      27.0      15.0   \n",
              "7                            NaN               NaN      32.0      37.0   \n",
              "10                           NaN               NaN      33.0      17.0   \n",
              "26                           NaN               NaN      26.0      18.0   \n",
              "35                           NaN               NaN      32.0      24.0   \n",
              "\n",
              "    NEOFAC_C  NEOFAC_N  NEOFAC_E  \n",
              "0       28.0      24.0      25.0  \n",
              "7       34.0      15.0      28.0  \n",
              "10      37.0      21.0      31.0  \n",
              "26      27.0      18.0      26.0  \n",
              "35      47.0      12.0      33.0  \n",
              "\n",
              "[5 rows x 204 columns]"
            ]
          },
          "execution_count": 11,
          "metadata": {},
          "output_type": "execute_result"
        }
      ],
      "source": [
        "df[df.isna().any(axis = 1)].head(5)"
      ]
    },
    {
      "cell_type": "code",
      "execution_count": 12,
      "metadata": {
        "colab": {
          "base_uri": "https://localhost:8080/"
        },
        "id": "YIkvIrCo8gAV",
        "outputId": "7bd571ee-cf2b-4b07-a7c7-3ffde47e9a70"
      },
      "outputs": [
        {
          "data": {
            "text/plain": [
              "(1106, 204)"
            ]
          },
          "execution_count": 12,
          "metadata": {},
          "output_type": "execute_result"
        }
      ],
      "source": [
        "df1 = df.dropna()\n",
        "df1.shape"
      ]
    },
    {
      "cell_type": "code",
      "execution_count": 13,
      "metadata": {
        "colab": {
          "base_uri": "https://localhost:8080/",
          "height": 403
        },
        "id": "tKbciKIx8gAW",
        "outputId": "a1665c52-296f-416e-8c53-bf6d43fc6ece"
      },
      "outputs": [
        {
          "data": {
            "text/plain": [
              "array([[<AxesSubplot:title={'center':'FS_BrainSeg_Vol_No_Vent_Surf'}>,\n",
              "        <AxesSubplot:title={'center':'FS_LCort_GM_Vol'}>],\n",
              "       [<AxesSubplot:title={'center':'FS_RCort_GM_Vol'}>,\n",
              "        <AxesSubplot:title={'center':'FS_TotCort_GM_Vol'}>],\n",
              "       [<AxesSubplot:title={'center':'FS_R_Transversetemporal_Area'}>,\n",
              "        <AxesSubplot:title={'center':'NEOFAC_O'}>]], dtype=object)"
            ]
          },
          "execution_count": 13,
          "metadata": {},
          "output_type": "execute_result"
        },
        {
          "data": {
            "image/png": "[encoded data removed]",
            "text/plain": [
              "<Figure size 432x288 with 6 Axes>"
            ]
          },
          "metadata": {
            "needs_background": "light"
          },
          "output_type": "display_data"
        }
      ],
      "source": [
        "#spot check distribution, nothing out of the ordinary\n",
        "df1[['FS_BrainSeg_Vol_No_Vent_Surf', 'FS_LCort_GM_Vol', 'FS_RCort_GM_Vol', 'FS_TotCort_GM_Vol', 'FS_R_Transversetemporal_Area', 'NEOFAC_O']].hist()\n"
      ]
    },
    {
      "cell_type": "code",
      "execution_count": 14,
      "metadata": {
        "colab": {
          "base_uri": "https://localhost:8080/",
          "height": 294
        },
        "id": "NYzi5zQ_8gAY",
        "outputId": "1267756f-68f6-4fa2-d3b3-0b5dbfff0267"
      },
      "outputs": [
        {
          "data": {
            "text/plain": [
              "<AxesSubplot:>"
            ]
          },
          "execution_count": 14,
          "metadata": {},
          "output_type": "execute_result"
        },
        {
          "data": {
            "image/png": "[encoded data removed]",
            "text/plain": [
              "<Figure size 432x288 with 1 Axes>"
            ]
          },
          "metadata": {
            "needs_background": "light"
          },
          "output_type": "display_data"
        }
      ],
      "source": [
        "#spot check for outliers, nothing out of the ordinary\n",
        "df1[['FS_TotCort_GM_Vol', 'FS_SubCort_GM_Vol', 'FS_Total_GM_Vol','FS_SupraTentorial_Vol', 'NEOFAC_C', 'NEOFAC_N']].boxplot()"
      ]
    },
    {
      "cell_type": "code",
      "execution_count": 15,
      "metadata": {
        "id": "ay2G1l5n8gAZ"
      },
      "outputs": [],
      "source": [
        "X = df1.drop(['NEOFAC_A', 'NEOFAC_O', 'NEOFAC_C', 'NEOFAC_N', 'NEOFAC_E'], axis = 1)\n",
        "y = df1[['NEOFAC_A', 'NEOFAC_O', 'NEOFAC_C', 'NEOFAC_N', 'NEOFAC_E']]"
      ]
    },
    {
      "cell_type": "code",
      "execution_count": 16,
      "metadata": {
        "id": "0-WRIRkU8gAZ"
      },
      "outputs": [],
      "source": [
        "scaler  =  StandardScaler()\n",
        "preprocessor = ColumnTransformer(transformers =[('scaler', scaler, list(X.columns))])\n",
        "\n",
        "X_train, X_test, y_train, y_test = train_test_split(X, y, test_size = .2, random_state = 0)"
      ]
    },
    {
      "cell_type": "markdown",
      "metadata": {
        "id": "oZFwDoie8gAb"
      },
      "source": [
        "## <span style = 'color: DodgerBlue'> Machine Learning"
      ]
    },
    {
      "cell_type": "code",
      "execution_count": 17,
      "metadata": {
        "colab": {
          "base_uri": "https://localhost:8080/",
          "height": 35
        },
        "id": "hVAN6RsQ8gAc",
        "outputId": "10732d5d-ecb6-4030-9374-d2cf53996c21"
      },
      "outputs": [
        {
          "data": {
            "text/plain": [
              "'score: -0.22749538503812677,  mae: 5.62000231034196,  mse: 49.28958794363371 '"
            ]
          },
          "execution_count": 17,
          "metadata": {},
          "output_type": "execute_result"
        }
      ],
      "source": [
        "linear = LinearRegression()\n",
        "\n",
        "paramaters = {'linear_label__fit_intercept': [True, False]}\n",
        "\n",
        "linear_model = Pipeline([\n",
        "    ('preprocessor_label', preprocessor),\n",
        "    ('linear_label', linear)\n",
        "])\n",
        "\n",
        "\n",
        "linear_gs = GridSearchCV(linear_model, param_grid = paramaters )\n",
        "linear_score = linear_gs.fit(X_train, y_train).score(X_test, y_test)\n",
        "linear_y_pred = linear_gs.predict(X_test)\n",
        "linear_mae = mean_absolute_error(y_test, linear_y_pred ) \n",
        "linear_mse = mean_squared_error(y_test, linear_y_pred ) \n",
        "f'score: {linear_score},  mae: {linear_mae},  mse: {linear_mse} '\n",
        "\n"
      ]
    },
    {
      "cell_type": "code",
      "execution_count": 18,
      "metadata": {
        "colab": {
          "base_uri": "https://localhost:8080/",
          "height": 35
        },
        "id": "yCsfVNXS8gAf",
        "outputId": "d8d5883a-c773-4da6-d582-77964b326696"
      },
      "outputs": [
        {
          "data": {
            "text/plain": [
              "'score: -0.06227278755505723, mae: 5.215859708871593, mse: 49.28958794363371 '"
            ]
          },
          "execution_count": 18,
          "metadata": {},
          "output_type": "execute_result"
        }
      ],
      "source": [
        "knn = KNeighborsRegressor()\n",
        "paramaters = {'knn_label__weights': ['distance', 'uniform'], 'knn_label__n_neighbors': [2,5,7 ]}\n",
        "\n",
        "knn_model = Pipeline([\n",
        "    ('preprocessor_label', preprocessor),\n",
        "    ('knn_label', knn)\n",
        "])\n",
        "\n",
        "\n",
        "knn_gs = GridSearchCV(knn_model, param_grid = paramaters )\n",
        "knn_score = knn_gs.fit(X_train, y_train).score(X_test, y_test)\n",
        "knn_y_pred = knn_gs.predict(X_test)\n",
        "knn_mae = mean_absolute_error(y_test, knn_y_pred ) \n",
        "knn_mse = mean_squared_error(y_test, linear_y_pred ) \n",
        "f'score: {knn_score}, mae: {knn_mae}, mse: {linear_mse} '"
      ]
    },
    {
      "cell_type": "markdown",
      "metadata": {
        "id": "nZ245XYK8gAh"
      },
      "source": [
        "## <span style = 'color: DodgerBlue'> Deep Learning"
      ]
    },
    {
      "cell_type": "code",
      "execution_count": 19,
      "metadata": {
        "id": "W8nqaP7Y8gAi"
      },
      "outputs": [],
      "source": [
        "def tensor_flow_regression(X):\n",
        "        tf.random.set_seed(0)\n",
        "        neural_transformer = make_column_transformer(( MinMaxScaler(), list(X) ))\n",
        "\n",
        "        neural_transformer.fit(X_train)\n",
        "        X_train_normal = neural_transformer.transform(X_train)\n",
        "        X_test_normal = neural_transformer.transform(X_test)\n",
        "\n",
        "        neural = tf.keras.Sequential([\n",
        "        tf.keras.layers.Dense(200),\n",
        "        tf.keras.layers.Dense(200),\n",
        "        tf.keras.layers.Dense(5)])\n",
        "\n",
        "        neural.compile(loss = tf.keras.losses.mae,\n",
        "                optimizer = tf.keras.optimizers.Adam(learning_rate=.0001),\n",
        "                metrics = [ tfa.metrics.r_square.RSquare(), 'mae', 'mse'] )\n",
        "\n",
        "        earlystopping = callbacks.EarlyStopping(monitor =\"r_square\", \n",
        "                                        mode =\"min\", patience = 5, \n",
        "                                        restore_best_weights = True)\n",
        "\n",
        "        history = neural.fit(X_train_normal, y_train, epochs = 600, verbose = 0, callbacks = [earlystopping] )\n",
        "\n",
        "        \n",
        "        \n",
        "        return neural.evaluate(X_test_normal, y_test)"
      ]
    },
    {
      "cell_type": "code",
      "execution_count": 20,
      "metadata": {
        "colab": {
          "base_uri": "https://localhost:8080/",
          "height": 289
        },
        "id": "oEh6O8848gAj",
        "outputId": "a85285c2-89eb-48e6-896d-a647cbd11dee"
      },
      "outputs": [
        {
          "name": "stdout",
          "output_type": "stream",
          "text": [
            "7/7 [==============================] - 0s 860us/step - loss: 24.8078 - r_square: -17.6520 - mae: 24.8078 - mse: 698.0768\n"
          ]
        }
      ],
      "source": [
        "regression_1 = tensor_flow_regression(X)\n"
      ]
    },
    {
      "cell_type": "markdown",
      "metadata": {
        "id": "i0Y_9crB8gAk"
      },
      "source": [
        "## <span style = 'color: DodgerBlue'> Dimensionality Reduction (features)\n"
      ]
    },
    {
      "cell_type": "code",
      "execution_count": 21,
      "metadata": {
        "colab": {
          "base_uri": "https://localhost:8080/"
        },
        "id": "xib6VgMW8gAk",
        "outputId": "2ded0a11-315b-4239-c83d-e7329dc0dc54"
      },
      "outputs": [
        {
          "name": "stderr",
          "output_type": "stream",
          "text": [
            "C:\\Users\\jrick\\AppData\\Local\\Temp\\ipykernel_12096\\1646738202.py:3: FutureWarning: The pandas.np module is deprecated and will be removed from pandas in a future version. Import numpy directly instead\n",
            "  new_X = pd.np.multiply(X[['FS_L_Bankssts_Area', 'FS_L_Caudalanteriorcingulate_Area', 'FS_L_Caudalmiddlefrontal_Area', 'FS_L_Cuneus_Area',\n",
            "C:\\Users\\jrick\\AppData\\Local\\Temp\\ipykernel_12096\\1646738202.py:3: FutureWarning: Calling a ufunc on non-aligned DataFrames (or DataFrame/Series combination). Currently, the indices are ignored and the result takes the index/columns of the first DataFrame. In the future , the DataFrames/Series will be aligned before applying the ufunc.\n",
            "Convert one of the arguments to a NumPy array (eg 'ufunc(df1, np.asarray(df2)') to keep the current behaviour, or align manually (eg 'df1, df2 = df1.align(df2)') before passing to the ufunc to obtain the future behaviour and silence this warning.\n",
            "  new_X = pd.np.multiply(X[['FS_L_Bankssts_Area', 'FS_L_Caudalanteriorcingulate_Area', 'FS_L_Caudalmiddlefrontal_Area', 'FS_L_Cuneus_Area',\n"
          ]
        }
      ],
      "source": [
        "# variables for Surface_Area and Thickness are for the same structures, mulitply them to create size variable.\n",
        "\n",
        "new_X = pd.np.multiply(X[['FS_L_Bankssts_Area', 'FS_L_Caudalanteriorcingulate_Area', 'FS_L_Caudalmiddlefrontal_Area', 'FS_L_Cuneus_Area', \n",
        "'FS_L_Entorhinal_Area', 'FS_L_Fusiform_Area', 'FS_L_Inferiorparietal_Area', 'FS_L_Inferiortemporal_Area', 'FS_L_Isthmuscingulate_Area',\n",
        "'FS_L_Lateraloccipital_Area', 'FS_L_Lateralorbitofrontal_Area', 'FS_L_Lingual_Area', 'FS_L_Medialorbitofrontal_Area', 'FS_L_Middletemporal_Area',\n",
        "'FS_L_Parahippocampal_Area', 'FS_L_Paracentral_Area', 'FS_L_Parsopercularis_Area', 'FS_L_Parsorbitalis_Area', 'FS_L_Parstriangularis_Area', \n",
        "'FS_L_Pericalcarine_Area', 'FS_L_Postcentral_Area', 'FS_L_Posteriorcingulate_Area', 'FS_L_Precentral_Area', 'FS_L_Precuneus_Area', \n",
        "'FS_L_Rostralanteriorcingulate_Area', 'FS_L_Rostralmiddlefrontal_Area', 'FS_L_Superiorfrontal_Area', 'FS_L_Superiorparietal_Area',\n",
        "'FS_L_Superiortemporal_Area', 'FS_L_Supramarginal_Area', 'FS_L_Frontalpole_Area', 'FS_L_Temporalpole_Area', 'FS_L_Transversetemporal_Area', \n",
        "'FS_L_Insula_Area', 'FS_R_Bankssts_Area', 'FS_R_Caudalanteriorcingulate_Area', 'FS_R_Caudalmiddlefrontal_Area', 'FS_R_Cuneus_Area', \n",
        "'FS_R_Entorhinal_Area', 'FS_R_Fusiform_Area', 'FS_R_Inferiorparietal_Area', 'FS_R_Inferiortemporal_Area', 'FS_R_Isthmuscingulate_Area', \n",
        "'FS_R_Lateraloccipital_Area', 'FS_R_Lateralorbitofrontal_Area', 'FS_R_Lingual_Area', 'FS_R_Medialorbitofrontal_Area', 'FS_R_Middletemporal_Area',\n",
        "'FS_R_Parahippocampal_Area', 'FS_R_Paracentral_Area', 'FS_R_Parsopercularis_Area', 'FS_R_Parsorbitalis_Area', 'FS_R_Parstriangularis_Area', \n",
        "'FS_R_Pericalcarine_Area', 'FS_R_Postcentral_Area', 'FS_R_Posteriorcingulate_Area', 'FS_R_Precentral_Area', 'FS_R_Precuneus_Area', \n",
        "'FS_R_Rostralanteriorcingulate_Area', 'FS_R_Rostralmiddlefrontal_Area', 'FS_R_Superiorfrontal_Area', 'FS_R_Superiorparietal_Area', 'FS_R_Superiortemporal_Area',\n",
        "'FS_R_Supramarginal_Area', 'FS_R_Frontalpole_Area', 'FS_R_Temporalpole_Area', 'FS_R_Transversetemporal_Area', 'FS_R_Insula_Area']],\n",
        "X[['FS_L_Bankssts_Thck', 'FS_L_Caudalanteriorcingulate_Thck', 'FS_L_Caudalmiddlefrontal_Thck', 'FS_L_Cuneus_Thck', 'FS_L_Entorhinal_Thck', 'FS_L_Fusiform_Thck', 'FS_L_Inferiorparietal_Thck', 'FS_L_Inferiortemporal_Thck', 'FS_L_Isthmuscingulate_Thck', 'FS_L_Lateraloccipital_Thck', 'FS_L_Lateralorbitofrontal_Thck', 'FS_L_Lingual_Thck', 'FS_L_Medialorbitofrontal_Thck', 'FS_L_Middletemporal_Thck', 'FS_L_Parahippocampal_Thck', 'FS_L_Paracentral_Thck', 'FS_L_Parsopercularis_Thck', 'FS_L_Parsorbitalis_Thck', 'FS_L_Parstriangularis_Thck', 'FS_L_Pericalcarine_Thck', 'FS_L_Postcentral_Thck', 'FS_L_Posteriorcingulate_Thck', 'FS_L_Precentral_Thck', 'FS_L_Precuneus_Thck', 'FS_L_Rostralanteriorcingulate_Thck', 'FS_L_Rostralmiddlefrontal_Thck', 'FS_L_Superiorfrontal_Thck', 'FS_L_Superiorparietal_Thck', 'FS_L_Superiortemporal_Thck', 'FS_L_Supramarginal_Thck', 'FS_L_Frontalpole_Thck', 'FS_L_Temporalpole_Thck', 'FS_L_Transversetemporal_Thck', 'FS_L_Insula_Thck', 'FS_R_Bankssts_Thck', 'FS_R_Caudalanteriorcingulate_Thck', 'FS_R_Caudalmiddlefrontal_Thck', 'FS_R_Cuneus_Thck', 'FS_R_Entorhinal_Thck', 'FS_R_Fusiform_Thck', 'FS_R_Inferiorparietal_Thck', 'FS_R_Inferiortemporal_Thck', 'FS_R_Isthmuscingulate_Thck', 'FS_R_Lateraloccipital_Thck', 'FS_R_Lateralorbitofrontal_Thck', 'FS_R_Lingual_Thck', 'FS_R_Medialorbitofrontal_Thck', 'FS_R_Middletemporal_Thck', 'FS_R_Parahippocampal_Thck', 'FS_R_Paracentral_Thck', 'FS_R_Parsopercularis_Thck', 'FS_R_Parsorbitalis_Thck', 'FS_R_Parstriangularis_Thck', 'FS_R_Pericalcarine_Thck', 'FS_R_Postcentral_Thck', 'FS_R_Posteriorcingulate_Thck', 'FS_R_Precentral_Thck', 'FS_R_Precuneus_Thck', 'FS_R_Rostralanteriorcingulate_Thck', 'FS_R_Rostralmiddlefrontal_Thck', 'FS_R_Superiorfrontal_Thck', 'FS_R_Superiorparietal_Thck', 'FS_R_Superiortemporal_Thck', 'FS_R_Supramarginal_Thck', 'FS_R_Frontalpole_Thck', 'FS_R_Temporalpole_Thck', 'FS_R_Transversetemporal_Thck', 'FS_R_Insula_Thck']])"
      ]
    },
    {
      "cell_type": "code",
      "execution_count": 22,
      "metadata": {
        "colab": {
          "base_uri": "https://localhost:8080/",
          "height": 287
        },
        "id": "IYh7zlH38gAm",
        "outputId": "85505aba-d10d-4782-a179-57bb0f87c4e0"
      },
      "outputs": [
        {
          "name": "stdout",
          "output_type": "stream",
          "text": [
            "7/7 [==============================] - 0s 833us/step - loss: 26.9943 - r_square: -20.6048 - mae: 26.9943 - mse: 811.2376\n"
          ]
        }
      ],
      "source": [
        "regression_2 = tensor_flow_regression(new_X)"
      ]
    },
    {
      "cell_type": "code",
      "execution_count": 23,
      "metadata": {
        "colab": {
          "base_uri": "https://localhost:8080/",
          "height": 252
        },
        "id": "K9mEvRPI8gAn",
        "outputId": "d933d3ab-ffe6-47c7-a16e-7078761e708e"
      },
      "outputs": [
        {
          "data": {
            "text/html": [
              "<div>\n",
              "<style scoped>\n",
              "    .dataframe tbody tr th:only-of-type {\n",
              "        vertical-align: middle;\n",
              "    }\n",
              "\n",
              "    .dataframe tbody tr th {\n",
              "        vertical-align: top;\n",
              "    }\n",
              "\n",
              "    .dataframe thead th {\n",
              "        text-align: right;\n",
              "    }\n",
              "</style>\n",
              "<table border=\"1\" class=\"dataframe\">\n",
              "  <thead>\n",
              "    <tr style=\"text-align: right;\">\n",
              "      <th></th>\n",
              "      <th>Metrics</th>\n",
              "      <th>Linear</th>\n",
              "      <th>Knn</th>\n",
              "      <th>Regression_1</th>\n",
              "      <th>Regression_2</th>\n",
              "    </tr>\n",
              "  </thead>\n",
              "  <tbody>\n",
              "    <tr>\n",
              "      <th>0</th>\n",
              "      <td>Loss</td>\n",
              "      <td>NaN</td>\n",
              "      <td>NaN</td>\n",
              "      <td>24.807762</td>\n",
              "      <td>26.994257</td>\n",
              "    </tr>\n",
              "    <tr>\n",
              "      <th>1</th>\n",
              "      <td>R_square</td>\n",
              "      <td>-0.227495</td>\n",
              "      <td>-0.062273</td>\n",
              "      <td>-17.651997</td>\n",
              "      <td>-20.604790</td>\n",
              "    </tr>\n",
              "    <tr>\n",
              "      <th>2</th>\n",
              "      <td>MAE</td>\n",
              "      <td>5.620002</td>\n",
              "      <td>5.21586</td>\n",
              "      <td>24.807762</td>\n",
              "      <td>26.994257</td>\n",
              "    </tr>\n",
              "    <tr>\n",
              "      <th>3</th>\n",
              "      <td>MSE</td>\n",
              "      <td>49.289588</td>\n",
              "      <td>49.289588</td>\n",
              "      <td>698.076843</td>\n",
              "      <td>811.237610</td>\n",
              "    </tr>\n",
              "  </tbody>\n",
              "</table>\n",
              "</div>"
            ],
            "text/plain": [
              "    Metrics     Linear        Knn  Regression_1  Regression_2\n",
              "0      Loss        NaN        NaN     24.807762     26.994257\n",
              "1  R_square  -0.227495  -0.062273    -17.651997    -20.604790\n",
              "2       MAE   5.620002    5.21586     24.807762     26.994257\n",
              "3       MSE  49.289588  49.289588    698.076843    811.237610"
            ]
          },
          "execution_count": 23,
          "metadata": {},
          "output_type": "execute_result"
        }
      ],
      "source": [
        "linear_values = 'NaN', linear_score, linear_mae, linear_mse \n",
        "knn_values = 'NaN', knn_score, knn_mae, knn_mse\n",
        "\n",
        "\n",
        "metrics_regression = pd.DataFrame({'Linear':  linear_values, 'Knn': knn_values, 'Regression_1': regression_1, 'Regression_2': regression_2   })\n",
        "metrics_regression.insert(0, 'Metrics',  ['Loss', 'R_square', 'MAE', 'MSE'])\n",
        "metrics_regression\n",
        "#R_square values are negilible"
      ]
    },
    {
      "cell_type": "markdown",
      "metadata": {
        "id": "wItHLXkS8gAo"
      },
      "source": [
        " ## <span style = 'color: DodgerBlue'> Dimenstionalty Reduction (responses)"
      ]
    },
    {
      "cell_type": "code",
      "execution_count": 24,
      "metadata": {
        "id": "Jl5qd3n68gAo"
      },
      "outputs": [],
      "source": [
        "y_new  = y.copy()\n",
        "\n",
        "y_new['NEOFAC_A'] = np.where(y_new['NEOFAC_A'] > 30.1, 1, 0)   \n",
        "y_new['NEOFAC_O'] = np.where(y_new['NEOFAC_O'] > 30.1, 1, 0)\n",
        "y_new['NEOFAC_C'] = np.where(y_new['NEOFAC_C'] > 30.1, 1, 0)\n",
        "y_new['NEOFAC_N'] = np.where(y_new['NEOFAC_N'] > 30.1, 1, 0)\n",
        "y_new['NEOFAC_E'] = np.where(y_new['NEOFAC_E'] > 30.1, 1, 0)"
      ]
    },
    {
      "cell_type": "code",
      "execution_count": 25,
      "metadata": {
        "id": "heDPwNmO8gAp"
      },
      "outputs": [],
      "source": [
        "def tensor_flow_categorical(X, y, output_layer):\n",
        "     \n",
        "\n",
        "    neural_transformer = make_column_transformer(( MinMaxScaler(), list(X) ))\n",
        "\n",
        "    X_train, X_test, y_train, y_test = train_test_split(X, y, test_size= .2, random_state= 0 )\n",
        "\n",
        "\n",
        "\n",
        "\n",
        "    neural_transformer.fit(X_train)\n",
        "    X_train_normal = neural_transformer.transform(X_train)\n",
        "    X_test_normal = neural_transformer.transform(X_test)\n",
        "\n",
        "    neural = tf.keras.Sequential([\n",
        "            tf.keras.layers.Dense(100, activation= 'relu'),\n",
        "            tf.keras.layers.Dense(100, activation= 'relu'),\n",
        "            tf.keras.layers.Dense(100, activation= 'relu'),\n",
        "            tf.keras.layers.Dense(100, activation= 'relu'),\n",
        "            tf.keras.layers.Dense(100, activation= 'relu'),\n",
        "            tf.keras.layers.Dense(output_layer, activation= 'sigmoid')])\n",
        "\n",
        "    neural.compile(loss = 'binary_crossentropy',\n",
        "                    optimizer = tf.keras.optimizers.Adam(learning_rate= .01),\n",
        "                    metrics = (['accuracy'], tf.keras.metrics.Precision(), tf.keras.metrics.Recall () ))\n",
        "\n",
        "    earlystopping = callbacks.EarlyStopping(monitor =\"accuracy\", \n",
        "                                    mode =\"min\", patience = 5, \n",
        "                                    restore_best_weights = True)\n",
        "\n",
        " \n",
        "\n",
        "    neural.fit(X_train_normal, y_train, epochs = 600, verbose = 0, callbacks = [earlystopping] )\n",
        "\n",
        "    return neural.evaluate(X_test_normal, y_test)\n",
        "        \n",
        "       "
      ]
    },
    {
      "cell_type": "code",
      "execution_count": 26,
      "metadata": {
        "colab": {
          "base_uri": "https://localhost:8080/"
        },
        "id": "XBkkaTII8gAp",
        "outputId": "4a83bf19-975c-4064-d014-8322a86063b5"
      },
      "outputs": [
        {
          "name": "stdout",
          "output_type": "stream",
          "text": [
            "7/7 [==============================] - 0s 1ms/step - loss: 0.5288 - accuracy: 0.1441 - precision: 0.6952 - recall: 0.8542\n",
            "7/7 [==============================] - 0s 833us/step - loss: 0.5296 - accuracy: 0.1441 - precision_1: 0.6952 - recall_1: 0.8542\n"
          ]
        }
      ],
      "source": [
        "categorical_1 = tensor_flow_categorical(X, y_new, 5)\n",
        "categorical_2 = tensor_flow_categorical(new_X, y_new, 5 )"
      ]
    },
    {
      "cell_type": "code",
      "execution_count": 27,
      "metadata": {
        "colab": {
          "base_uri": "https://localhost:8080/",
          "height": 175
        },
        "id": "3PCYhX208gAv",
        "outputId": "d50cba20-7d70-49cf-85fa-73684e3c601e"
      },
      "outputs": [
        {
          "data": {
            "text/html": [
              "<div>\n",
              "<style scoped>\n",
              "    .dataframe tbody tr th:only-of-type {\n",
              "        vertical-align: middle;\n",
              "    }\n",
              "\n",
              "    .dataframe tbody tr th {\n",
              "        vertical-align: top;\n",
              "    }\n",
              "\n",
              "    .dataframe thead th {\n",
              "        text-align: right;\n",
              "    }\n",
              "</style>\n",
              "<table border=\"1\" class=\"dataframe\">\n",
              "  <thead>\n",
              "    <tr style=\"text-align: right;\">\n",
              "      <th></th>\n",
              "      <th>Metrics</th>\n",
              "      <th>categorical_1</th>\n",
              "      <th>categorical_2</th>\n",
              "    </tr>\n",
              "  </thead>\n",
              "  <tbody>\n",
              "    <tr>\n",
              "      <th>0</th>\n",
              "      <td>Loss</td>\n",
              "      <td>0.528765</td>\n",
              "      <td>0.529632</td>\n",
              "    </tr>\n",
              "    <tr>\n",
              "      <th>1</th>\n",
              "      <td>Accuracy</td>\n",
              "      <td>0.144144</td>\n",
              "      <td>0.144144</td>\n",
              "    </tr>\n",
              "    <tr>\n",
              "      <th>2</th>\n",
              "      <td>Precision</td>\n",
              "      <td>0.695195</td>\n",
              "      <td>0.695195</td>\n",
              "    </tr>\n",
              "    <tr>\n",
              "      <th>3</th>\n",
              "      <td>Recall</td>\n",
              "      <td>0.854244</td>\n",
              "      <td>0.854244</td>\n",
              "    </tr>\n",
              "  </tbody>\n",
              "</table>\n",
              "</div>"
            ],
            "text/plain": [
              "     Metrics  categorical_1  categorical_2\n",
              "0       Loss       0.528765       0.529632\n",
              "1   Accuracy       0.144144       0.144144\n",
              "2  Precision       0.695195       0.695195\n",
              "3     Recall       0.854244       0.854244"
            ]
          },
          "execution_count": 27,
          "metadata": {},
          "output_type": "execute_result"
        }
      ],
      "source": [
        "cat_df = pd.DataFrame({'categorical_1': categorical_1, 'categorical_2' : categorical_2}) \n",
        "cat_df.insert(0, 'Metrics',  ['Loss', 'Accuracy', 'Precision', 'Recall'])\n",
        "cat_df\n",
        "#accuracy scores are identical"
      ]
    },
    {
      "cell_type": "markdown",
      "metadata": {},
      "source": [
        " ## <span style = 'color: DodgerBlue'> Dimenstionalty Reduction (responses 2)\n",
        " "
      ]
    },
    {
      "cell_type": "code",
      "execution_count": 28,
      "metadata": {
        "id": "ghQwD9bG8gAz"
      },
      "outputs": [],
      "source": [
        "\n",
        "y_new_no_o = y_new.drop(['NEOFAC_O'], axis = 1, inplace = False)\n",
        "y_new_no_c = y_new.drop(['NEOFAC_C'], axis = 1, inplace = False)\n",
        "y_new_no_e = y_new.drop(['NEOFAC_E'], axis = 1, inplace = False)\n",
        "y_new_no_a = y_new.drop(['NEOFAC_A'], axis = 1, inplace = False)\n",
        "y_new_no_n = y_new.drop(['NEOFAC_N'], axis = 1, inplace = False)"
      ]
    },
    {
      "cell_type": "code",
      "execution_count": 29,
      "metadata": {
        "colab": {
          "base_uri": "https://localhost:8080/"
        },
        "id": "HESVow8t8gA0",
        "outputId": "2e1c3aeb-cfc7-4c53-af32-0d40d201f5ec"
      },
      "outputs": [
        {
          "name": "stdout",
          "output_type": "stream",
          "text": [
            "7/7 [==============================] - 0s 667us/step - loss: 0.5173 - accuracy: 0.1847 - precision_2: 0.6952 - recall_2: 0.9747\n",
            "7/7 [==============================] - 0s 834us/step - loss: 0.5352 - accuracy: 0.8243 - precision_3: 0.6720 - recall_3: 0.6846\n",
            "7/7 [==============================] - 0s 833us/step - loss: 0.5062 - accuracy: 0.1441 - precision_4: 0.7455 - recall_4: 0.8073\n",
            "7/7 [==============================] - 0s 667us/step - loss: 0.5225 - accuracy: 0.5586 - precision_5: 0.7703 - recall_5: 0.4476\n",
            "7/7 [==============================] - 0s 833us/step - loss: 0.6100 - accuracy: 0.1441 - precision_6: 0.6952 - recall_6: 0.8736\n"
          ]
        }
      ],
      "source": [
        "CEAN_1 = tensor_flow_categorical(new_X, y_new_no_o, 4)\n",
        "OEAN_2 = tensor_flow_categorical(new_X, y_new_no_c, 4)\n",
        "OCAN_3 = tensor_flow_categorical(new_X, y_new_no_e, 4)\n",
        "OCEN_4 = tensor_flow_categorical(new_X, y_new_no_a, 4)\n",
        "OCEA_5 = tensor_flow_categorical(new_X, y_new_no_n, 4)"
      ]
    },
    {
      "cell_type": "code",
      "execution_count": 34,
      "metadata": {
        "colab": {
          "base_uri": "https://localhost:8080/",
          "height": 175
        },
        "id": "XLLUBAxz8gA1",
        "outputId": "93480421-0657-40ce-d33d-d7d99d99a53c"
      },
      "outputs": [
        {
          "data": {
            "text/html": [
              "<div>\n",
              "<style scoped>\n",
              "    .dataframe tbody tr th:only-of-type {\n",
              "        vertical-align: middle;\n",
              "    }\n",
              "\n",
              "    .dataframe tbody tr th {\n",
              "        vertical-align: top;\n",
              "    }\n",
              "\n",
              "    .dataframe thead th {\n",
              "        text-align: right;\n",
              "    }\n",
              "</style>\n",
              "<table border=\"1\" class=\"dataframe\">\n",
              "  <thead>\n",
              "    <tr style=\"text-align: right;\">\n",
              "      <th></th>\n",
              "      <th>Metrics</th>\n",
              "      <th>CEAN_1</th>\n",
              "      <th>OEAN_2</th>\n",
              "      <th>OCAN_3</th>\n",
              "      <th>OCEN_4</th>\n",
              "      <th>OCEA_5</th>\n",
              "    </tr>\n",
              "  </thead>\n",
              "  <tbody>\n",
              "    <tr>\n",
              "      <th>0</th>\n",
              "      <td>Loss</td>\n",
              "      <td>0.517290</td>\n",
              "      <td>0.535209</td>\n",
              "      <td>0.506243</td>\n",
              "      <td>0.522508</td>\n",
              "      <td>0.609976</td>\n",
              "    </tr>\n",
              "    <tr>\n",
              "      <th>1</th>\n",
              "      <td>Accuracy</td>\n",
              "      <td>0.184685</td>\n",
              "      <td>0.824324</td>\n",
              "      <td>0.144144</td>\n",
              "      <td>0.558559</td>\n",
              "      <td>0.144144</td>\n",
              "    </tr>\n",
              "    <tr>\n",
              "      <th>2</th>\n",
              "      <td>Precision</td>\n",
              "      <td>0.695195</td>\n",
              "      <td>0.671958</td>\n",
              "      <td>0.745495</td>\n",
              "      <td>0.770270</td>\n",
              "      <td>0.695195</td>\n",
              "    </tr>\n",
              "    <tr>\n",
              "      <th>3</th>\n",
              "      <td>Recall</td>\n",
              "      <td>0.974737</td>\n",
              "      <td>0.684636</td>\n",
              "      <td>0.807317</td>\n",
              "      <td>0.447644</td>\n",
              "      <td>0.873585</td>\n",
              "    </tr>\n",
              "  </tbody>\n",
              "</table>\n",
              "</div>"
            ],
            "text/plain": [
              "     Metrics    CEAN_1    OEAN_2    OCAN_3    OCEN_4    OCEA_5\n",
              "0       Loss  0.517290  0.535209  0.506243  0.522508  0.609976\n",
              "1   Accuracy  0.184685  0.824324  0.144144  0.558559  0.144144\n",
              "2  Precision  0.695195  0.671958  0.745495  0.770270  0.695195\n",
              "3     Recall  0.974737  0.684636  0.807317  0.447644  0.873585"
            ]
          },
          "execution_count": 34,
          "metadata": {},
          "output_type": "execute_result"
        }
      ],
      "source": [
        "df = pd.DataFrame({ 'CEAN_1': CEAN_1, 'OEAN_2': OEAN_2,  'OCAN_3': OCAN_3, 'OCEN_4' : OCEN_4, 'OCEA_5': OCEA_5  })\n",
        "df.insert(0, 'Metrics',  ['Loss', 'Accuracy', 'Precision', 'Recall'])\n",
        "df\n",
        "\n"
      ]
    },
    {
      "cell_type": "code",
      "execution_count": 35,
      "metadata": {
        "id": "tI2BWVAM8gA1"
      },
      "outputs": [
        {
          "data": {
            "text/html": [
              "<div>\n",
              "<style scoped>\n",
              "    .dataframe tbody tr th:only-of-type {\n",
              "        vertical-align: middle;\n",
              "    }\n",
              "\n",
              "    .dataframe tbody tr th {\n",
              "        vertical-align: top;\n",
              "    }\n",
              "\n",
              "    .dataframe thead th {\n",
              "        text-align: right;\n",
              "    }\n",
              "</style>\n",
              "<table border=\"1\" class=\"dataframe\">\n",
              "  <thead>\n",
              "    <tr style=\"text-align: right;\">\n",
              "      <th>Metrics</th>\n",
              "      <th>Loss</th>\n",
              "      <th>Accuracy</th>\n",
              "      <th>Precision</th>\n",
              "      <th>Recall</th>\n",
              "    </tr>\n",
              "  </thead>\n",
              "  <tbody>\n",
              "    <tr>\n",
              "      <th>CEAN_1</th>\n",
              "      <td>0.517290</td>\n",
              "      <td>0.184685</td>\n",
              "      <td>0.695195</td>\n",
              "      <td>0.974737</td>\n",
              "    </tr>\n",
              "    <tr>\n",
              "      <th>OEAN_2</th>\n",
              "      <td>0.535209</td>\n",
              "      <td>0.824324</td>\n",
              "      <td>0.671958</td>\n",
              "      <td>0.684636</td>\n",
              "    </tr>\n",
              "    <tr>\n",
              "      <th>OCAN_3</th>\n",
              "      <td>0.506243</td>\n",
              "      <td>0.144144</td>\n",
              "      <td>0.745495</td>\n",
              "      <td>0.807317</td>\n",
              "    </tr>\n",
              "    <tr>\n",
              "      <th>OCEN_4</th>\n",
              "      <td>0.522508</td>\n",
              "      <td>0.558559</td>\n",
              "      <td>0.770270</td>\n",
              "      <td>0.447644</td>\n",
              "    </tr>\n",
              "    <tr>\n",
              "      <th>OCEA_5</th>\n",
              "      <td>0.609976</td>\n",
              "      <td>0.144144</td>\n",
              "      <td>0.695195</td>\n",
              "      <td>0.873585</td>\n",
              "    </tr>\n",
              "  </tbody>\n",
              "</table>\n",
              "</div>"
            ],
            "text/plain": [
              "Metrics      Loss  Accuracy  Precision    Recall\n",
              "CEAN_1   0.517290  0.184685   0.695195  0.974737\n",
              "OEAN_2   0.535209  0.824324   0.671958  0.684636\n",
              "OCAN_3   0.506243  0.144144   0.745495  0.807317\n",
              "OCEN_4   0.522508  0.558559   0.770270  0.447644\n",
              "OCEA_5   0.609976  0.144144   0.695195  0.873585"
            ]
          },
          "execution_count": 35,
          "metadata": {},
          "output_type": "execute_result"
        }
      ],
      "source": [
        "df = df.set_index('Metrics')\n",
        "df1 = df.T\n",
        "df1"
      ]
    },
    {
      "cell_type": "code",
      "execution_count": 41,
      "metadata": {
        "colab": {
          "base_uri": "https://localhost:8080/",
          "height": 338
        },
        "id": "fwXZN2LxNq2A",
        "outputId": "77970bec-219d-4baa-ab1f-8493eaad3f36"
      },
      "outputs": [
        {
          "data": {
            "text/plain": [
              "<matplotlib.legend.Legend at 0x1403e015160>"
            ]
          },
          "execution_count": 41,
          "metadata": {},
          "output_type": "execute_result"
        },
        {
          "data": {
            "image/png": "[encoded data removed]",
            "text/plain": [
              "<Figure size 1008x504 with 1 Axes>"
            ]
          },
          "metadata": {
            "needs_background": "light"
          },
          "output_type": "display_data"
        }
      ],
      "source": [
        "plt.figure(figsize=(14, 7))\n",
        "x_axis = np.arange(len(df1.index))\n",
        "plt.bar(x_axis, df1[\"Accuracy\"], color=\"maroon\",label='accuracy',width=0.4) \n",
        "plt.bar(x_axis+0.2, df1[\"Loss\"],label='loss',width=0.2 )\n",
        "plt.bar(x_axis+0.4, df1[\"Precision\"], color=\"green\",label='precision',width=0.2)\n",
        "plt.bar(x_axis+0.6, df1[\"Recall\"], color=\"orange\",label='recall',width=0.2)\n",
        "plt.xticks(x_axis,df1.index)\n",
        "plt.legend()\n",
        "\n",
        "\n",
        "#relying primarly on the accuracy metric we can see that using OEAN_2 (droping conscientious) results in the best model"
      ]
    }
  ],
  "metadata": {
    "colab": {
      "collapsed_sections": [],
      "name": "CodeToDeliver.ipynb",
      "provenance": []
    },
    "kernelspec": {
      "display_name": "Python 3.9.13 64-bit (windows store)",
      "language": "python",
      "name": "python3"
    },
    "language_info": {
      "codemirror_mode": {
        "name": "ipython",
        "version": 3
      },
      "file_extension": ".py",
      "mimetype": "text/x-python",
      "name": "python",
      "nbconvert_exporter": "python",
      "pygments_lexer": "ipython3",
      "version": "3.9.13"
    },
    "vscode": {
      "interpreter": {
        "hash": "30fb55f82537a2b40570f3a17d5c10f8dd9ee29a28db40c4c7d2c6eec1ee76be"
      }
    }
  },
  "nbformat": 4,
  "nbformat_minor": 0
}
