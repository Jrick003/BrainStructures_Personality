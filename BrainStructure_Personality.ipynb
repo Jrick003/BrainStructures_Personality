{
  "cells": [
    {
      "cell_type": "markdown",
      "metadata": {},
      "source": [
        "## <span style = 'color: DodgerBlue'> Brain Structure and Personality"
      ]
    },
    {
      "cell_type": "markdown",
      "metadata": {},
      "source": [
        "<u> Problem Description</u>: Using measurements of the size of brain structures to predict personality as desribed by the Big Five Taxononmy. \n",
        "\n",
        "<u>Background</u> The measurements are composed of the volume, surface are and/or thickness of of different structures of the brain as determined by the MRI of subjects, there are 199 measurements which will be the features. The Big Five Taxonomy is the response variable and is composed of 5 variables, corresponding to Agreeableness,  Openess to experience, Conscientiousness, Neuroticism and Extroversion. For further details see Read Me"
      ]
    },
    {
      "cell_type": "code",
      "execution_count": 1,
      "metadata": {
        "id": "-k30xaop8f-Q"
      },
      "outputs": [],
      "source": [
        "import numpy as np\n",
        "import pandas as pd\n",
        "import tensorflow as tf\n",
        "import tensorflow_addons as tfa\n",
        "import matplotlib.pyplot as plt\n",
        "from sklearn.compose import make_column_transformer\n",
        "from sklearn.compose import ColumnTransformer\n",
        "from sklearn.preprocessing import MinMaxScaler, StandardScaler\n",
        "from sklearn.model_selection import train_test_split\n",
        "from sklearn.pipeline import Pipeline\n",
        "from sklearn.linear_model import LinearRegression\n",
        "from sklearn.model_selection import GridSearchCV\n",
        "from sklearn.metrics import mean_absolute_error\n",
        "from sklearn.metrics import mean_squared_error\n",
        "from sklearn.neighbors import KNeighborsRegressor\n",
        "from keras import callbacks\n",
        "import seaborn as sns"
      ]
    },
    {
      "cell_type": "code",
      "execution_count": 2,
      "metadata": {
        "id": "7nuwyz9L8f_i"
      },
      "outputs": [],
      "source": [
        "data  = pd.read_csv('BrainStructures_data.csv')"
      ]
    },
    {
      "cell_type": "code",
      "execution_count": 3,
      "metadata": {
        "id": "9_GvPhCa8f_k"
      },
      "outputs": [],
      "source": [
        "features = data.iloc[:,191:390]      #all columns related to volume, size or thickness of brain become the features\n",
        "response = data[['NEOFAC_A', 'NEOFAC_O', 'NEOFAC_C', 'NEOFAC_N', 'NEOFAC_E']]   # variables corresponding to Big Five become the response\n",
        "\n",
        "df = pd.merge(features, response, how = 'inner', left_index = True, right_index = True)"
      ]
    },
    {
      "cell_type": "markdown",
      "metadata": {
        "id": "o77F9fj28gAF"
      },
      "source": [
        "## <span style = 'color: DodgerBlue'> Exploratory Analysis & Preprocessing"
      ]
    },
    {
      "cell_type": "code",
      "execution_count": 4,
      "metadata": {
        "colab": {
          "base_uri": "https://localhost:8080/"
        },
        "id": "9aGhn6l18gAT",
        "outputId": "bcaea4fd-bc93-4ef8-84be-6bc35d7f8177"
      },
      "outputs": [
        {
          "data": {
            "text/plain": [
              "((1206, 204), (1206, 204))"
            ]
          },
          "execution_count": 4,
          "metadata": {},
          "output_type": "execute_result"
        }
      ],
      "source": [
        "#ensure tha all columns are floats\n",
        "\n",
        "df.shape,   df.select_dtypes('float64').shape       "
      ]
    },
    {
      "cell_type": "code",
      "execution_count": 5,
      "metadata": {},
      "outputs": [
        {
          "data": {
            "text/plain": [
              "(FS_IntraCranial_Vol             93\n",
              " FS_BrainSeg_Vol                 93\n",
              " FS_BrainSeg_Vol_No_Vent         93\n",
              " FS_BrainSeg_Vol_No_Vent_Surf    93\n",
              " FS_LCort_GM_Vol                 93\n",
              "                                 ..\n",
              " FS_R_Supramarginal_Area         93\n",
              " FS_R_Frontalpole_Area           93\n",
              " FS_R_Temporalpole_Area          93\n",
              " FS_R_Transversetemporal_Area    93\n",
              " FS_R_Insula_Area                93\n",
              " Length: 199, dtype: int64,\n",
              " NEOFAC_A    7\n",
              " NEOFAC_O    7\n",
              " NEOFAC_C    7\n",
              " NEOFAC_N    7\n",
              " NEOFAC_E    7\n",
              " dtype: int64)"
            ]
          },
          "execution_count": 5,
          "metadata": {},
          "output_type": "execute_result"
        }
      ],
      "source": [
        "features.isnull().sum(), response.isnull().sum()"
      ]
    },
    {
      "cell_type": "code",
      "execution_count": 6,
      "metadata": {
        "colab": {
          "base_uri": "https://localhost:8080/",
          "height": 300
        },
        "id": "bAGiK-wt8gAU",
        "outputId": "6d7e6a88-ee53-4166-bb52-f2af6d24e877"
      },
      "outputs": [
        {
          "data": {
            "text/html": [
              "<div>\n",
              "<style scoped>\n",
              "    .dataframe tbody tr th:only-of-type {\n",
              "        vertical-align: middle;\n",
              "    }\n",
              "\n",
              "    .dataframe tbody tr th {\n",
              "        vertical-align: top;\n",
              "    }\n",
              "\n",
              "    .dataframe thead th {\n",
              "        text-align: right;\n",
              "    }\n",
              "</style>\n",
              "<table border=\"1\" class=\"dataframe\">\n",
              "  <thead>\n",
              "    <tr style=\"text-align: right;\">\n",
              "      <th></th>\n",
              "      <th>FS_IntraCranial_Vol</th>\n",
              "      <th>FS_BrainSeg_Vol</th>\n",
              "      <th>FS_BrainSeg_Vol_No_Vent</th>\n",
              "      <th>FS_BrainSeg_Vol_No_Vent_Surf</th>\n",
              "      <th>FS_LCort_GM_Vol</th>\n",
              "      <th>FS_RCort_GM_Vol</th>\n",
              "      <th>FS_TotCort_GM_Vol</th>\n",
              "      <th>FS_SubCort_GM_Vol</th>\n",
              "      <th>FS_Total_GM_Vol</th>\n",
              "      <th>FS_SupraTentorial_Vol</th>\n",
              "      <th>...</th>\n",
              "      <th>FS_R_Supramarginal_Area</th>\n",
              "      <th>FS_R_Frontalpole_Area</th>\n",
              "      <th>FS_R_Temporalpole_Area</th>\n",
              "      <th>FS_R_Transversetemporal_Area</th>\n",
              "      <th>FS_R_Insula_Area</th>\n",
              "      <th>NEOFAC_A</th>\n",
              "      <th>NEOFAC_O</th>\n",
              "      <th>NEOFAC_C</th>\n",
              "      <th>NEOFAC_N</th>\n",
              "      <th>NEOFAC_E</th>\n",
              "    </tr>\n",
              "  </thead>\n",
              "  <tbody>\n",
              "    <tr>\n",
              "      <th>0</th>\n",
              "      <td>NaN</td>\n",
              "      <td>NaN</td>\n",
              "      <td>NaN</td>\n",
              "      <td>NaN</td>\n",
              "      <td>NaN</td>\n",
              "      <td>NaN</td>\n",
              "      <td>NaN</td>\n",
              "      <td>NaN</td>\n",
              "      <td>NaN</td>\n",
              "      <td>NaN</td>\n",
              "      <td>...</td>\n",
              "      <td>NaN</td>\n",
              "      <td>NaN</td>\n",
              "      <td>NaN</td>\n",
              "      <td>NaN</td>\n",
              "      <td>NaN</td>\n",
              "      <td>27.0</td>\n",
              "      <td>15.0</td>\n",
              "      <td>28.0</td>\n",
              "      <td>24.0</td>\n",
              "      <td>25.0</td>\n",
              "    </tr>\n",
              "    <tr>\n",
              "      <th>7</th>\n",
              "      <td>NaN</td>\n",
              "      <td>NaN</td>\n",
              "      <td>NaN</td>\n",
              "      <td>NaN</td>\n",
              "      <td>NaN</td>\n",
              "      <td>NaN</td>\n",
              "      <td>NaN</td>\n",
              "      <td>NaN</td>\n",
              "      <td>NaN</td>\n",
              "      <td>NaN</td>\n",
              "      <td>...</td>\n",
              "      <td>NaN</td>\n",
              "      <td>NaN</td>\n",
              "      <td>NaN</td>\n",
              "      <td>NaN</td>\n",
              "      <td>NaN</td>\n",
              "      <td>32.0</td>\n",
              "      <td>37.0</td>\n",
              "      <td>34.0</td>\n",
              "      <td>15.0</td>\n",
              "      <td>28.0</td>\n",
              "    </tr>\n",
              "    <tr>\n",
              "      <th>10</th>\n",
              "      <td>NaN</td>\n",
              "      <td>NaN</td>\n",
              "      <td>NaN</td>\n",
              "      <td>NaN</td>\n",
              "      <td>NaN</td>\n",
              "      <td>NaN</td>\n",
              "      <td>NaN</td>\n",
              "      <td>NaN</td>\n",
              "      <td>NaN</td>\n",
              "      <td>NaN</td>\n",
              "      <td>...</td>\n",
              "      <td>NaN</td>\n",
              "      <td>NaN</td>\n",
              "      <td>NaN</td>\n",
              "      <td>NaN</td>\n",
              "      <td>NaN</td>\n",
              "      <td>33.0</td>\n",
              "      <td>17.0</td>\n",
              "      <td>37.0</td>\n",
              "      <td>21.0</td>\n",
              "      <td>31.0</td>\n",
              "    </tr>\n",
              "    <tr>\n",
              "      <th>26</th>\n",
              "      <td>NaN</td>\n",
              "      <td>NaN</td>\n",
              "      <td>NaN</td>\n",
              "      <td>NaN</td>\n",
              "      <td>NaN</td>\n",
              "      <td>NaN</td>\n",
              "      <td>NaN</td>\n",
              "      <td>NaN</td>\n",
              "      <td>NaN</td>\n",
              "      <td>NaN</td>\n",
              "      <td>...</td>\n",
              "      <td>NaN</td>\n",
              "      <td>NaN</td>\n",
              "      <td>NaN</td>\n",
              "      <td>NaN</td>\n",
              "      <td>NaN</td>\n",
              "      <td>26.0</td>\n",
              "      <td>18.0</td>\n",
              "      <td>27.0</td>\n",
              "      <td>18.0</td>\n",
              "      <td>26.0</td>\n",
              "    </tr>\n",
              "    <tr>\n",
              "      <th>35</th>\n",
              "      <td>NaN</td>\n",
              "      <td>NaN</td>\n",
              "      <td>NaN</td>\n",
              "      <td>NaN</td>\n",
              "      <td>NaN</td>\n",
              "      <td>NaN</td>\n",
              "      <td>NaN</td>\n",
              "      <td>NaN</td>\n",
              "      <td>NaN</td>\n",
              "      <td>NaN</td>\n",
              "      <td>...</td>\n",
              "      <td>NaN</td>\n",
              "      <td>NaN</td>\n",
              "      <td>NaN</td>\n",
              "      <td>NaN</td>\n",
              "      <td>NaN</td>\n",
              "      <td>32.0</td>\n",
              "      <td>24.0</td>\n",
              "      <td>47.0</td>\n",
              "      <td>12.0</td>\n",
              "      <td>33.0</td>\n",
              "    </tr>\n",
              "  </tbody>\n",
              "</table>\n",
              "<p>5 rows × 204 columns</p>\n",
              "</div>"
            ],
            "text/plain": [
              "    FS_IntraCranial_Vol  FS_BrainSeg_Vol  FS_BrainSeg_Vol_No_Vent  \\\n",
              "0                   NaN              NaN                      NaN   \n",
              "7                   NaN              NaN                      NaN   \n",
              "10                  NaN              NaN                      NaN   \n",
              "26                  NaN              NaN                      NaN   \n",
              "35                  NaN              NaN                      NaN   \n",
              "\n",
              "    FS_BrainSeg_Vol_No_Vent_Surf  FS_LCort_GM_Vol  FS_RCort_GM_Vol  \\\n",
              "0                            NaN              NaN              NaN   \n",
              "7                            NaN              NaN              NaN   \n",
              "10                           NaN              NaN              NaN   \n",
              "26                           NaN              NaN              NaN   \n",
              "35                           NaN              NaN              NaN   \n",
              "\n",
              "    FS_TotCort_GM_Vol  FS_SubCort_GM_Vol  FS_Total_GM_Vol  \\\n",
              "0                 NaN                NaN              NaN   \n",
              "7                 NaN                NaN              NaN   \n",
              "10                NaN                NaN              NaN   \n",
              "26                NaN                NaN              NaN   \n",
              "35                NaN                NaN              NaN   \n",
              "\n",
              "    FS_SupraTentorial_Vol  ...  FS_R_Supramarginal_Area  \\\n",
              "0                     NaN  ...                      NaN   \n",
              "7                     NaN  ...                      NaN   \n",
              "10                    NaN  ...                      NaN   \n",
              "26                    NaN  ...                      NaN   \n",
              "35                    NaN  ...                      NaN   \n",
              "\n",
              "    FS_R_Frontalpole_Area  FS_R_Temporalpole_Area  \\\n",
              "0                     NaN                     NaN   \n",
              "7                     NaN                     NaN   \n",
              "10                    NaN                     NaN   \n",
              "26                    NaN                     NaN   \n",
              "35                    NaN                     NaN   \n",
              "\n",
              "    FS_R_Transversetemporal_Area  FS_R_Insula_Area  NEOFAC_A  NEOFAC_O  \\\n",
              "0                            NaN               NaN      27.0      15.0   \n",
              "7                            NaN               NaN      32.0      37.0   \n",
              "10                           NaN               NaN      33.0      17.0   \n",
              "26                           NaN               NaN      26.0      18.0   \n",
              "35                           NaN               NaN      32.0      24.0   \n",
              "\n",
              "    NEOFAC_C  NEOFAC_N  NEOFAC_E  \n",
              "0       28.0      24.0      25.0  \n",
              "7       34.0      15.0      28.0  \n",
              "10      37.0      21.0      31.0  \n",
              "26      27.0      18.0      26.0  \n",
              "35      47.0      12.0      33.0  \n",
              "\n",
              "[5 rows x 204 columns]"
            ]
          },
          "execution_count": 6,
          "metadata": {},
          "output_type": "execute_result"
        }
      ],
      "source": [
        "df[df.isna().any(axis = 1)].head(5)"
      ]
    },
    {
      "cell_type": "code",
      "execution_count": 7,
      "metadata": {
        "colab": {
          "base_uri": "https://localhost:8080/"
        },
        "id": "YIkvIrCo8gAV",
        "outputId": "7bd571ee-cf2b-4b07-a7c7-3ffde47e9a70"
      },
      "outputs": [
        {
          "data": {
            "text/plain": [
              "(1106, 204)"
            ]
          },
          "execution_count": 7,
          "metadata": {},
          "output_type": "execute_result"
        }
      ],
      "source": [
        "#drop null values since they are relatively small porportion of dataset.\n",
        "\n",
        "df1 = df.dropna()   \n",
        "df1.shape"
      ]
    },
    {
      "cell_type": "code",
      "execution_count": 8,
      "metadata": {},
      "outputs": [
        {
          "data": {
            "text/html": [
              "<div>\n",
              "<style scoped>\n",
              "    .dataframe tbody tr th:only-of-type {\n",
              "        vertical-align: middle;\n",
              "    }\n",
              "\n",
              "    .dataframe tbody tr th {\n",
              "        vertical-align: top;\n",
              "    }\n",
              "\n",
              "    .dataframe thead th {\n",
              "        text-align: right;\n",
              "    }\n",
              "</style>\n",
              "<table border=\"1\" class=\"dataframe\">\n",
              "  <thead>\n",
              "    <tr style=\"text-align: right;\">\n",
              "      <th></th>\n",
              "      <th>NEOFAC_A</th>\n",
              "      <th>NEOFAC_O</th>\n",
              "      <th>NEOFAC_C</th>\n",
              "      <th>NEOFAC_N</th>\n",
              "      <th>NEOFAC_E</th>\n",
              "    </tr>\n",
              "  </thead>\n",
              "  <tbody>\n",
              "    <tr>\n",
              "      <th>count</th>\n",
              "      <td>1106.000000</td>\n",
              "      <td>1106.000000</td>\n",
              "      <td>1106.000000</td>\n",
              "      <td>1106.000000</td>\n",
              "      <td>1106.000000</td>\n",
              "    </tr>\n",
              "    <tr>\n",
              "      <th>mean</th>\n",
              "      <td>33.484629</td>\n",
              "      <td>28.330018</td>\n",
              "      <td>34.481917</td>\n",
              "      <td>16.635624</td>\n",
              "      <td>30.716094</td>\n",
              "    </tr>\n",
              "    <tr>\n",
              "      <th>std</th>\n",
              "      <td>5.773887</td>\n",
              "      <td>6.212857</td>\n",
              "      <td>5.937696</td>\n",
              "      <td>7.358201</td>\n",
              "      <td>5.977095</td>\n",
              "    </tr>\n",
              "    <tr>\n",
              "      <th>min</th>\n",
              "      <td>10.000000</td>\n",
              "      <td>10.000000</td>\n",
              "      <td>11.000000</td>\n",
              "      <td>0.000000</td>\n",
              "      <td>10.000000</td>\n",
              "    </tr>\n",
              "    <tr>\n",
              "      <th>25%</th>\n",
              "      <td>30.000000</td>\n",
              "      <td>24.000000</td>\n",
              "      <td>31.000000</td>\n",
              "      <td>12.000000</td>\n",
              "      <td>27.000000</td>\n",
              "    </tr>\n",
              "    <tr>\n",
              "      <th>50%</th>\n",
              "      <td>34.000000</td>\n",
              "      <td>28.000000</td>\n",
              "      <td>35.000000</td>\n",
              "      <td>16.000000</td>\n",
              "      <td>31.000000</td>\n",
              "    </tr>\n",
              "    <tr>\n",
              "      <th>75%</th>\n",
              "      <td>37.750000</td>\n",
              "      <td>32.000000</td>\n",
              "      <td>38.000000</td>\n",
              "      <td>21.000000</td>\n",
              "      <td>35.000000</td>\n",
              "    </tr>\n",
              "    <tr>\n",
              "      <th>max</th>\n",
              "      <td>48.000000</td>\n",
              "      <td>47.000000</td>\n",
              "      <td>48.000000</td>\n",
              "      <td>43.000000</td>\n",
              "      <td>47.000000</td>\n",
              "    </tr>\n",
              "  </tbody>\n",
              "</table>\n",
              "</div>"
            ],
            "text/plain": [
              "          NEOFAC_A     NEOFAC_O     NEOFAC_C     NEOFAC_N     NEOFAC_E\n",
              "count  1106.000000  1106.000000  1106.000000  1106.000000  1106.000000\n",
              "mean     33.484629    28.330018    34.481917    16.635624    30.716094\n",
              "std       5.773887     6.212857     5.937696     7.358201     5.977095\n",
              "min      10.000000    10.000000    11.000000     0.000000    10.000000\n",
              "25%      30.000000    24.000000    31.000000    12.000000    27.000000\n",
              "50%      34.000000    28.000000    35.000000    16.000000    31.000000\n",
              "75%      37.750000    32.000000    38.000000    21.000000    35.000000\n",
              "max      48.000000    47.000000    48.000000    43.000000    47.000000"
            ]
          },
          "execution_count": 8,
          "metadata": {},
          "output_type": "execute_result"
        }
      ],
      "source": [
        "#Examine response variables for irregularities\n",
        "\n",
        "response1 = df1[['NEOFAC_A', 'NEOFAC_O', 'NEOFAC_C', 'NEOFAC_N', 'NEOFAC_E']]\n",
        "response1.describe()"
      ]
    },
    {
      "cell_type": "code",
      "execution_count": 9,
      "metadata": {},
      "outputs": [
        {
          "data": {
            "text/plain": [
              "<AxesSubplot:>"
            ]
          },
          "execution_count": 9,
          "metadata": {},
          "output_type": "execute_result"
        },
        {
          "data": {
            "image/png": "[encoded data removed]",
            "text/plain": [
              "<Figure size 720x504 with 2 Axes>"
            ]
          },
          "metadata": {
            "needs_background": "light"
          },
          "output_type": "display_data"
        }
      ],
      "source": [
        "heat = response1.corr()\n",
        "\n",
        "fig, ax = plt.subplots(figsize = (10, 7))\n",
        "sns.heatmap(heat, xticklabels=heat.columns, annot = True, )"
      ]
    },
    {
      "cell_type": "code",
      "execution_count": 10,
      "metadata": {},
      "outputs": [
        {
          "data": {
            "text/plain": [
              "array([[<AxesSubplot:title={'center':'FS_BrainSeg_Vol_No_Vent_Surf'}>,\n",
              "        <AxesSubplot:title={'center':'FS_LCort_GM_Vol'}>],\n",
              "       [<AxesSubplot:title={'center':'FS_RCort_GM_Vol'}>,\n",
              "        <AxesSubplot:title={'center':'FS_TotCort_GM_Vol'}>],\n",
              "       [<AxesSubplot:title={'center':'FS_R_Transversetemporal_Area'}>,\n",
              "        <AxesSubplot:title={'center':'FS_L_Postcentral_Area'}>]],\n",
              "      dtype=object)"
            ]
          },
          "execution_count": 10,
          "metadata": {},
          "output_type": "execute_result"
        },
        {
          "data": {
            "image/png": "[encoded data removed]",
            "text/plain": [
              "<Figure size 504x504 with 6 Axes>"
            ]
          },
          "metadata": {
            "needs_background": "light"
          },
          "output_type": "display_data"
        }
      ],
      "source": [
        "#spot check distribution, to check for normal distribution\n",
        "\n",
        "df1[['FS_BrainSeg_Vol_No_Vent_Surf', 'FS_LCort_GM_Vol', 'FS_RCort_GM_Vol', 'FS_TotCort_GM_Vol', 'FS_R_Transversetemporal_Area', 'FS_L_Postcentral_Area']].hist(figsize = (7 , 7) )\n"
      ]
    },
    {
      "cell_type": "code",
      "execution_count": 11,
      "metadata": {},
      "outputs": [
        {
          "data": {
            "text/plain": [
              "array([[<AxesSubplot:title={'center':'NEOFAC_A'}>,\n",
              "        <AxesSubplot:title={'center':'NEOFAC_O'}>],\n",
              "       [<AxesSubplot:title={'center':'NEOFAC_C'}>,\n",
              "        <AxesSubplot:title={'center':'NEOFAC_N'}>],\n",
              "       [<AxesSubplot:title={'center':'NEOFAC_E'}>, <AxesSubplot:>]],\n",
              "      dtype=object)"
            ]
          },
          "execution_count": 11,
          "metadata": {},
          "output_type": "execute_result"
        },
        {
          "data": {
            "image/png": "[encoded data removed]",
            "text/plain": [
              "<Figure size 504x504 with 6 Axes>"
            ]
          },
          "metadata": {
            "needs_background": "light"
          },
          "output_type": "display_data"
        }
      ],
      "source": [
        "response1.hist(figsize = (7 , 7) )"
      ]
    },
    {
      "cell_type": "code",
      "execution_count": 12,
      "metadata": {},
      "outputs": [
        {
          "data": {
            "text/plain": [
              "<AxesSubplot:>"
            ]
          },
          "execution_count": 12,
          "metadata": {},
          "output_type": "execute_result"
        },
        {
          "data": {
            "image/png": "[encoded data removed]",
            "text/plain": [
              "<Figure size 864x432 with 1 Axes>"
            ]
          },
          "metadata": {
            "needs_background": "light"
          },
          "output_type": "display_data"
        }
      ],
      "source": [
        "#spot check for outliers, nothing out of the ordinary\n",
        "df1[['FS_TotCort_GM_Vol', 'FS_SubCort_GM_Vol', 'FS_Total_GM_Vol','FS_SupraTentorial_Vol',  ]].boxplot(figsize= (12,6))"
      ]
    },
    {
      "cell_type": "code",
      "execution_count": 13,
      "metadata": {},
      "outputs": [
        {
          "data": {
            "text/plain": [
              "<AxesSubplot:>"
            ]
          },
          "execution_count": 13,
          "metadata": {},
          "output_type": "execute_result"
        },
        {
          "data": {
            "image/png": "[encoded data removed]",
            "text/plain": [
              "<Figure size 864x432 with 1 Axes>"
            ]
          },
          "metadata": {
            "needs_background": "light"
          },
          "output_type": "display_data"
        }
      ],
      "source": [
        "df1[['FS_L_Postcentral_Area', 'FS_L_Lateralorbitofrontal_Area','FS_L_Postcentral_Area', 'FS_L_Precuneus_Area']].boxplot(figsize= (12,6))"
      ]
    },
    {
      "cell_type": "code",
      "execution_count": 14,
      "metadata": {},
      "outputs": [],
      "source": [
        "X = df1.drop(['NEOFAC_A', 'NEOFAC_O', 'NEOFAC_C', 'NEOFAC_N', 'NEOFAC_E'], axis = 1)\n",
        "y = df1[['NEOFAC_A', 'NEOFAC_O', 'NEOFAC_C', 'NEOFAC_N', 'NEOFAC_E']]"
      ]
    },
    {
      "cell_type": "code",
      "execution_count": 15,
      "metadata": {},
      "outputs": [],
      "source": [
        "scaler  =  StandardScaler()\n",
        "preprocessor = ColumnTransformer(transformers =[('scaler', scaler, list(X.columns))])\n",
        "\n",
        "X_train, X_test, y_train, y_test = train_test_split(X, y, test_size = .2, random_state = 0)"
      ]
    },
    {
      "cell_type": "markdown",
      "metadata": {},
      "source": [
        "## <span style = 'color: DodgerBlue'> Machine Learning"
      ]
    },
    {
      "cell_type": "code",
      "execution_count": 16,
      "metadata": {},
      "outputs": [
        {
          "data": {
            "text/plain": [
              "'score: -0.22749538503812677,  mae: 5.62000231034196,  mse: 49.28958794363371 '"
            ]
          },
          "execution_count": 16,
          "metadata": {},
          "output_type": "execute_result"
        }
      ],
      "source": [
        "linear = LinearRegression()\n",
        "\n",
        "paramaters = {'linear_label__fit_intercept': [True, False]}\n",
        "\n",
        "linear_model = Pipeline([\n",
        "    ('preprocessor_label', preprocessor),\n",
        "    ('linear_label', linear)\n",
        "])\n",
        "\n",
        "\n",
        "linear_gs = GridSearchCV(linear_model, param_grid = paramaters )\n",
        "linear_score = linear_gs.fit(X_train, y_train).score(X_test, y_test)\n",
        "linear_y_pred = linear_gs.predict(X_test)\n",
        "linear_mae = mean_absolute_error(y_test, linear_y_pred ) \n",
        "linear_mse = mean_squared_error(y_test, linear_y_pred ) \n",
        "f'score: {linear_score},  mae: {linear_mae},  mse: {linear_mse} '\n"
      ]
    },
    {
      "cell_type": "code",
      "execution_count": 17,
      "metadata": {},
      "outputs": [
        {
          "data": {
            "text/plain": [
              "'score: -0.06227278755505723, mae: 5.215859708871593, mse: 49.28958794363371 '"
            ]
          },
          "execution_count": 17,
          "metadata": {},
          "output_type": "execute_result"
        }
      ],
      "source": [
        "knn = KNeighborsRegressor()\n",
        "paramaters = {'knn_label__weights': ['distance', 'uniform'], 'knn_label__n_neighbors': [2,5,7 ]}\n",
        "\n",
        "knn_model = Pipeline([\n",
        "    ('preprocessor_label', preprocessor),\n",
        "    ('knn_label', knn)\n",
        "])\n",
        "\n",
        "\n",
        "knn_gs = GridSearchCV(knn_model, param_grid = paramaters )\n",
        "knn_score = knn_gs.fit(X_train, y_train).score(X_test, y_test)\n",
        "knn_y_pred = knn_gs.predict(X_test)\n",
        "knn_mae = mean_absolute_error(y_test, knn_y_pred ) \n",
        "knn_mse = mean_squared_error(y_test, linear_y_pred ) \n",
        "f'score: {knn_score}, mae: {knn_mae}, mse: {linear_mse} '"
      ]
    },
    {
      "cell_type": "markdown",
      "metadata": {},
      "source": [
        "## <span style = 'color: DodgerBlue'> Deep Learning"
      ]
    },
    {
      "cell_type": "code",
      "execution_count": 18,
      "metadata": {},
      "outputs": [],
      "source": [
        "def tensor_flow_regression(X, y, outputlayer):\n",
        "        tf.random.set_seed(0)\n",
        "        \n",
        "        neural_transformer = make_column_transformer(( MinMaxScaler(), list(X) ))\n",
        "\n",
        "        X_train, X_test, y_train, y_test = train_test_split(X, y, test_size= .2, random_state= 0 )\n",
        "\n",
        "        neural_transformer.fit(X_train)\n",
        "        X_train_normal = neural_transformer.transform(X_train)\n",
        "        X_test_normal = neural_transformer.transform(X_test)\n",
        "\n",
        "        neural = tf.keras.Sequential([\n",
        "        tf.keras.layers.Dense(200),\n",
        "        tf.keras.layers.Dense(200),\n",
        "        tf.keras.layers.Dense(outputlayer)])\n",
        "\n",
        "        neural.compile(loss = tf.keras.losses.mae,\n",
        "                optimizer = tf.keras.optimizers.Adam(learning_rate=.0001),\n",
        "                metrics = [ tfa.metrics.r_square.RSquare(), 'mae', 'mse'] )\n",
        "\n",
        "        earlystopping = callbacks.EarlyStopping(monitor =\"r_square\", \n",
        "                                        mode =\"min\", patience = 5, \n",
        "                                        restore_best_weights = True)\n",
        "\n",
        "        neural.fit(X_train_normal, y_train, epochs = 600, verbose = 0, callbacks = [earlystopping] )\n",
        "\n",
        "        \n",
        "        \n",
        "        return neural.evaluate(X_test_normal, y_test)"
      ]
    },
    {
      "cell_type": "code",
      "execution_count": 19,
      "metadata": {},
      "outputs": [
        {
          "name": "stdout",
          "output_type": "stream",
          "text": [
            "7/7 [==============================] - 0s 834us/step - loss: 24.8078 - r_square: -17.6520 - mae: 24.8078 - mse: 698.0768\n"
          ]
        }
      ],
      "source": [
        "regression_1 = tensor_flow_regression(X, y, 5)"
      ]
    },
    {
      "cell_type": "markdown",
      "metadata": {},
      "source": [
        "## <span style = 'color: DodgerBlue'> Dimensionality Reduction (features)"
      ]
    },
    {
      "cell_type": "code",
      "execution_count": 20,
      "metadata": {},
      "outputs": [
        {
          "name": "stderr",
          "output_type": "stream",
          "text": [
            "C:\\Users\\jrick\\AppData\\Local\\Temp\\ipykernel_36100\\2884656763.py:3: FutureWarning: The pandas.np module is deprecated and will be removed from pandas in a future version. Import numpy directly instead\n",
            "  new_X = pd.np.multiply(X[['FS_L_Bankssts_Area', 'FS_L_Caudalanteriorcingulate_Area', 'FS_L_Caudalmiddlefrontal_Area', 'FS_L_Cuneus_Area',  'FS_L_Entorhinal_Area', 'FS_L_Fusiform_Area', 'FS_L_Inferiorparietal_Area', 'FS_L_Inferiortemporal_Area', 'FS_L_Isthmuscingulate_Area',\n",
            "C:\\Users\\jrick\\AppData\\Local\\Temp\\ipykernel_36100\\2884656763.py:3: FutureWarning: Calling a ufunc on non-aligned DataFrames (or DataFrame/Series combination). Currently, the indices are ignored and the result takes the index/columns of the first DataFrame. In the future , the DataFrames/Series will be aligned before applying the ufunc.\n",
            "Convert one of the arguments to a NumPy array (eg 'ufunc(df1, np.asarray(df2)') to keep the current behaviour, or align manually (eg 'df1, df2 = df1.align(df2)') before passing to the ufunc to obtain the future behaviour and silence this warning.\n",
            "  new_X = pd.np.multiply(X[['FS_L_Bankssts_Area', 'FS_L_Caudalanteriorcingulate_Area', 'FS_L_Caudalmiddlefrontal_Area', 'FS_L_Cuneus_Area',  'FS_L_Entorhinal_Area', 'FS_L_Fusiform_Area', 'FS_L_Inferiorparietal_Area', 'FS_L_Inferiortemporal_Area', 'FS_L_Isthmuscingulate_Area',\n"
          ]
        }
      ],
      "source": [
        "# variables for Surface_Area and Thickness are for the same structures, mulitply them to create a new size variable. The remaining 63 variable that are for other parts of the brain are not included\n",
        "\n",
        "new_X = pd.np.multiply(X[['FS_L_Bankssts_Area', 'FS_L_Caudalanteriorcingulate_Area', 'FS_L_Caudalmiddlefrontal_Area', 'FS_L_Cuneus_Area',  'FS_L_Entorhinal_Area', 'FS_L_Fusiform_Area', 'FS_L_Inferiorparietal_Area', 'FS_L_Inferiortemporal_Area', 'FS_L_Isthmuscingulate_Area',\n",
        "'FS_L_Lateraloccipital_Area', 'FS_L_Lateralorbitofrontal_Area', 'FS_L_Lingual_Area', 'FS_L_Medialorbitofrontal_Area', 'FS_L_Middletemporal_Area', 'FS_L_Parahippocampal_Area', 'FS_L_Paracentral_Area', 'FS_L_Parsopercularis_Area', 'FS_L_Parsorbitalis_Area', 'FS_L_Parstriangularis_Area', 'FS_L_Pericalcarine_Area', 'FS_L_Postcentral_Area', 'FS_L_Posteriorcingulate_Area', 'FS_L_Precentral_Area', 'FS_L_Precuneus_Area', \n",
        "'FS_L_Rostralanteriorcingulate_Area', 'FS_L_Rostralmiddlefrontal_Area', 'FS_L_Superiorfrontal_Area', 'FS_L_Superiorparietal_Area', 'FS_L_Superiortemporal_Area', 'FS_L_Supramarginal_Area', 'FS_L_Frontalpole_Area', 'FS_L_Temporalpole_Area', 'FS_L_Transversetemporal_Area', 'FS_L_Insula_Area', 'FS_R_Bankssts_Area', 'FS_R_Caudalanteriorcingulate_Area', 'FS_R_Caudalmiddlefrontal_Area', 'FS_R_Cuneus_Area', 'FS_R_Entorhinal_Area', 'FS_R_Fusiform_Area', 'FS_R_Inferiorparietal_Area', 'FS_R_Inferiortemporal_Area', 'FS_R_Isthmuscingulate_Area', \n",
        "'FS_R_Lateraloccipital_Area', 'FS_R_Lateralorbitofrontal_Area', 'FS_R_Lingual_Area', 'FS_R_Medialorbitofrontal_Area', 'FS_R_Middletemporal_Area', 'FS_R_Parahippocampal_Area', 'FS_R_Paracentral_Area', 'FS_R_Parsopercularis_Area', 'FS_R_Parsorbitalis_Area', 'FS_R_Parstriangularis_Area', 'FS_R_Pericalcarine_Area', 'FS_R_Postcentral_Area', 'FS_R_Posteriorcingulate_Area', 'FS_R_Precentral_Area', 'FS_R_Precuneus_Area', \n",
        "'FS_R_Rostralanteriorcingulate_Area', 'FS_R_Rostralmiddlefrontal_Area', 'FS_R_Superiorfrontal_Area', 'FS_R_Superiorparietal_Area', 'FS_R_Superiortemporal_Area', 'FS_R_Supramarginal_Area', 'FS_R_Frontalpole_Area', 'FS_R_Temporalpole_Area', 'FS_R_Transversetemporal_Area', 'FS_R_Insula_Area']],\n",
        "X[['FS_L_Bankssts_Thck', 'FS_L_Caudalanteriorcingulate_Thck', 'FS_L_Caudalmiddlefrontal_Thck', 'FS_L_Cuneus_Thck', 'FS_L_Entorhinal_Thck', 'FS_L_Fusiform_Thck', 'FS_L_Inferiorparietal_Thck', 'FS_L_Inferiortemporal_Thck', 'FS_L_Isthmuscingulate_Thck', 'FS_L_Lateraloccipital_Thck', 'FS_L_Lateralorbitofrontal_Thck', 'FS_L_Lingual_Thck', 'FS_L_Medialorbitofrontal_Thck', 'FS_L_Middletemporal_Thck', 'FS_L_Parahippocampal_Thck', 'FS_L_Paracentral_Thck', 'FS_L_Parsopercularis_Thck', 'FS_L_Parsorbitalis_Thck', 'FS_L_Parstriangularis_Thck', 'FS_L_Pericalcarine_Thck', 'FS_L_Postcentral_Thck', 'FS_L_Posteriorcingulate_Thck', 'FS_L_Precentral_Thck', 'FS_L_Precuneus_Thck', 'FS_L_Rostralanteriorcingulate_Thck', 'FS_L_Rostralmiddlefrontal_Thck', 'FS_L_Superiorfrontal_Thck', 'FS_L_Superiorparietal_Thck', 'FS_L_Superiortemporal_Thck', 'FS_L_Supramarginal_Thck', 'FS_L_Frontalpole_Thck', 'FS_L_Temporalpole_Thck', 'FS_L_Transversetemporal_Thck', 'FS_L_Insula_Thck', 'FS_R_Bankssts_Thck', 'FS_R_Caudalanteriorcingulate_Thck', 'FS_R_Caudalmiddlefrontal_Thck', 'FS_R_Cuneus_Thck', 'FS_R_Entorhinal_Thck', 'FS_R_Fusiform_Thck', 'FS_R_Inferiorparietal_Thck', 'FS_R_Inferiortemporal_Thck', 'FS_R_Isthmuscingulate_Thck', 'FS_R_Lateraloccipital_Thck', 'FS_R_Lateralorbitofrontal_Thck', 'FS_R_Lingual_Thck', 'FS_R_Medialorbitofrontal_Thck', 'FS_R_Middletemporal_Thck', 'FS_R_Parahippocampal_Thck', 'FS_R_Paracentral_Thck', 'FS_R_Parsopercularis_Thck', 'FS_R_Parsorbitalis_Thck', 'FS_R_Parstriangularis_Thck', 'FS_R_Pericalcarine_Thck', 'FS_R_Postcentral_Thck', 'FS_R_Posteriorcingulate_Thck', 'FS_R_Precentral_Thck', 'FS_R_Precuneus_Thck', 'FS_R_Rostralanteriorcingulate_Thck', 'FS_R_Rostralmiddlefrontal_Thck', 'FS_R_Superiorfrontal_Thck', 'FS_R_Superiorparietal_Thck', 'FS_R_Superiortemporal_Thck', 'FS_R_Supramarginal_Thck', 'FS_R_Frontalpole_Thck', 'FS_R_Temporalpole_Thck', 'FS_R_Transversetemporal_Thck', 'FS_R_Insula_Thck']])"
      ]
    },
    {
      "cell_type": "code",
      "execution_count": 21,
      "metadata": {},
      "outputs": [
        {
          "data": {
            "text/plain": [
              "(1106, 68)"
            ]
          },
          "execution_count": 21,
          "metadata": {},
          "output_type": "execute_result"
        }
      ],
      "source": [
        "new_X.shape"
      ]
    },
    {
      "cell_type": "code",
      "execution_count": 22,
      "metadata": {},
      "outputs": [
        {
          "name": "stdout",
          "output_type": "stream",
          "text": [
            "7/7 [==============================] - 0s 667us/step - loss: 26.9445 - r_square: -20.5379 - mae: 26.9445 - mse: 808.5659\n"
          ]
        }
      ],
      "source": [
        "regression_2 = tensor_flow_regression(new_X, y, 5)"
      ]
    },
    {
      "cell_type": "code",
      "execution_count": 23,
      "metadata": {},
      "outputs": [
        {
          "data": {
            "text/html": [
              "<div>\n",
              "<style scoped>\n",
              "    .dataframe tbody tr th:only-of-type {\n",
              "        vertical-align: middle;\n",
              "    }\n",
              "\n",
              "    .dataframe tbody tr th {\n",
              "        vertical-align: top;\n",
              "    }\n",
              "\n",
              "    .dataframe thead th {\n",
              "        text-align: right;\n",
              "    }\n",
              "</style>\n",
              "<table border=\"1\" class=\"dataframe\">\n",
              "  <thead>\n",
              "    <tr style=\"text-align: right;\">\n",
              "      <th></th>\n",
              "      <th>Metrics</th>\n",
              "      <th>Linear</th>\n",
              "      <th>Knn</th>\n",
              "      <th>Regression_1</th>\n",
              "      <th>Regression_2</th>\n",
              "    </tr>\n",
              "  </thead>\n",
              "  <tbody>\n",
              "    <tr>\n",
              "      <th>0</th>\n",
              "      <td>Loss</td>\n",
              "      <td>NaN</td>\n",
              "      <td>NaN</td>\n",
              "      <td>24.807762</td>\n",
              "      <td>26.944452</td>\n",
              "    </tr>\n",
              "    <tr>\n",
              "      <th>1</th>\n",
              "      <td>R_square</td>\n",
              "      <td>-0.227495</td>\n",
              "      <td>-0.062273</td>\n",
              "      <td>-17.651997</td>\n",
              "      <td>-20.537931</td>\n",
              "    </tr>\n",
              "    <tr>\n",
              "      <th>2</th>\n",
              "      <td>MAE</td>\n",
              "      <td>5.620002</td>\n",
              "      <td>5.21586</td>\n",
              "      <td>24.807762</td>\n",
              "      <td>26.944452</td>\n",
              "    </tr>\n",
              "    <tr>\n",
              "      <th>3</th>\n",
              "      <td>MSE</td>\n",
              "      <td>49.289588</td>\n",
              "      <td>49.289588</td>\n",
              "      <td>698.076843</td>\n",
              "      <td>808.565857</td>\n",
              "    </tr>\n",
              "  </tbody>\n",
              "</table>\n",
              "</div>"
            ],
            "text/plain": [
              "    Metrics     Linear        Knn  Regression_1  Regression_2\n",
              "0      Loss        NaN        NaN     24.807762     26.944452\n",
              "1  R_square  -0.227495  -0.062273    -17.651997    -20.537931\n",
              "2       MAE   5.620002    5.21586     24.807762     26.944452\n",
              "3       MSE  49.289588  49.289588    698.076843    808.565857"
            ]
          },
          "execution_count": 23,
          "metadata": {},
          "output_type": "execute_result"
        }
      ],
      "source": [
        "linear_values = 'NaN', linear_score, linear_mae, linear_mse \n",
        "knn_values = 'NaN', knn_score, knn_mae, knn_mse\n",
        "\n",
        "\n",
        "metrics_regression = pd.DataFrame({'Linear':  linear_values, 'Knn': knn_values, 'Regression_1': regression_1, 'Regression_2': regression_2   })\n",
        "metrics_regression.insert(0, 'Metrics',  ['Loss', 'R_square', 'MAE', 'MSE'])\n",
        "metrics_regression\n",
        "#R_square values are negilible"
      ]
    },
    {
      "cell_type": "markdown",
      "metadata": {},
      "source": [
        "Thus far all models tried have result in negative R_square indicating no pattern could be found. "
      ]
    },
    {
      "cell_type": "markdown",
      "metadata": {},
      "source": [
        " ## <span style = 'color: DodgerBlue'> Dimensionality Reduction (responses)"
      ]
    },
    {
      "cell_type": "code",
      "execution_count": 24,
      "metadata": {},
      "outputs": [],
      "source": [
        "#Rather than try to predict a continous variable, the response variables are turned into binary caterogiral variables. For example rather than trying to predict agreenableness between  0 and 48, then ensuing models will predict either 0 or 1 with 0 being low in agreeableness 1 being high.\n",
        "\n",
        "y_new  = y.copy()\n",
        "\n",
        "y_new['NEOFAC_A'] = np.where(y_new['NEOFAC_A'] > 29, 1, 0)   #29 is the mean of the means of the response variables\n",
        "y_new['NEOFAC_O'] = np.where(y_new['NEOFAC_O'] > 29, 1, 0)\n",
        "y_new['NEOFAC_C'] = np.where(y_new['NEOFAC_C'] > 29, 1, 0)\n",
        "y_new['NEOFAC_N'] = np.where(y_new['NEOFAC_N'] > 29, 1, 0)\n",
        "y_new['NEOFAC_E'] = np.where(y_new['NEOFAC_E'] > 29, 1, 0)"
      ]
    },
    {
      "cell_type": "code",
      "execution_count": 25,
      "metadata": {},
      "outputs": [],
      "source": [
        "def tensor_flow_categorical(X, y, output_layer):\n",
        "    tf.random.set_seed(0)\n",
        "     \n",
        "\n",
        "    neural_transformer = make_column_transformer(( MinMaxScaler(), list(X) ))\n",
        "\n",
        "    X_train, X_test, y_train, y_test = train_test_split(X, y, test_size= .2, random_state= 0 )\n",
        "\n",
        "\n",
        "\n",
        "\n",
        "    neural_transformer.fit(X_train)\n",
        "    X_train_normal = neural_transformer.transform(X_train)\n",
        "    X_test_normal = neural_transformer.transform(X_test)\n",
        "\n",
        "    neural = tf.keras.Sequential([\n",
        "            tf.keras.layers.Dense(100, activation= 'relu'),\n",
        "            tf.keras.layers.Dense(100, activation= 'relu'),\n",
        "            tf.keras.layers.Dense(100, activation= 'relu'),\n",
        "            tf.keras.layers.Dense(100, activation= 'relu'),\n",
        "            tf.keras.layers.Dense(100, activation= 'relu'),\n",
        "            tf.keras.layers.Dense(output_layer, activation= 'sigmoid')])\n",
        "\n",
        "    neural.compile(loss = 'binary_crossentropy',\n",
        "                    optimizer = tf.keras.optimizers.Adam(learning_rate= .01),\n",
        "                    metrics = (['accuracy'], tf.keras.metrics.Precision(), tf.keras.metrics.Recall () ))\n",
        "\n",
        "    earlystopping = callbacks.EarlyStopping(monitor =\"accuracy\", \n",
        "                                    mode =\"min\", patience = 5, \n",
        "                                    restore_best_weights = True)\n",
        "\n",
        " \n",
        "\n",
        "    neural.fit(X_train_normal, y_train, epochs = 600, verbose = 0, callbacks = [earlystopping] )\n",
        "\n",
        "    return neural.evaluate(X_test_normal, y_test)\n",
        "        \n",
        "       "
      ]
    },
    {
      "cell_type": "code",
      "execution_count": 26,
      "metadata": {},
      "outputs": [
        {
          "name": "stdout",
          "output_type": "stream",
          "text": [
            "7/7 [==============================] - 0s 833us/step - loss: 0.5201 - accuracy: 0.1171 - precision: 0.7327 - recall: 0.8370\n",
            "7/7 [==============================] - 0s 833us/step - loss: 0.5236 - accuracy: 0.1171 - precision_1: 0.7327 - recall_1: 0.8370\n"
          ]
        }
      ],
      "source": [
        "categorical_1 = tensor_flow_categorical(X, y_new, 5 )\n",
        "categorical_2 = tensor_flow_categorical(new_X, y_new, 5 )"
      ]
    },
    {
      "cell_type": "code",
      "execution_count": 27,
      "metadata": {},
      "outputs": [
        {
          "data": {
            "text/html": [
              "<div>\n",
              "<style scoped>\n",
              "    .dataframe tbody tr th:only-of-type {\n",
              "        vertical-align: middle;\n",
              "    }\n",
              "\n",
              "    .dataframe tbody tr th {\n",
              "        vertical-align: top;\n",
              "    }\n",
              "\n",
              "    .dataframe thead th {\n",
              "        text-align: right;\n",
              "    }\n",
              "</style>\n",
              "<table border=\"1\" class=\"dataframe\">\n",
              "  <thead>\n",
              "    <tr style=\"text-align: right;\">\n",
              "      <th></th>\n",
              "      <th>Metrics</th>\n",
              "      <th>categorical_1</th>\n",
              "      <th>categorical_2</th>\n",
              "    </tr>\n",
              "  </thead>\n",
              "  <tbody>\n",
              "    <tr>\n",
              "      <th>0</th>\n",
              "      <td>Loss</td>\n",
              "      <td>0.520128</td>\n",
              "      <td>0.523607</td>\n",
              "    </tr>\n",
              "    <tr>\n",
              "      <th>1</th>\n",
              "      <td>Accuracy</td>\n",
              "      <td>0.117117</td>\n",
              "      <td>0.117117</td>\n",
              "    </tr>\n",
              "    <tr>\n",
              "      <th>2</th>\n",
              "      <td>Precision</td>\n",
              "      <td>0.732733</td>\n",
              "      <td>0.732733</td>\n",
              "    </tr>\n",
              "    <tr>\n",
              "      <th>3</th>\n",
              "      <td>Recall</td>\n",
              "      <td>0.837050</td>\n",
              "      <td>0.837050</td>\n",
              "    </tr>\n",
              "  </tbody>\n",
              "</table>\n",
              "</div>"
            ],
            "text/plain": [
              "     Metrics  categorical_1  categorical_2\n",
              "0       Loss       0.520128       0.523607\n",
              "1   Accuracy       0.117117       0.117117\n",
              "2  Precision       0.732733       0.732733\n",
              "3     Recall       0.837050       0.837050"
            ]
          },
          "execution_count": 27,
          "metadata": {},
          "output_type": "execute_result"
        }
      ],
      "source": [
        "cat_df = pd.DataFrame({'categorical_1': categorical_1, 'categorical_2' : categorical_2}) \n",
        "cat_df.insert(0, 'Metrics',  ['Loss', 'Accuracy', 'Precision', 'Recall'])\n",
        "cat_df\n",
        "\n",
        "\n",
        "#accuracy scores are identical and are only ~12%"
      ]
    },
    {
      "cell_type": "markdown",
      "metadata": {},
      "source": [
        " ## <span style = 'color: DodgerBlue'> Dimensionality Reduction (responses 2)"
      ]
    },
    {
      "cell_type": "code",
      "execution_count": 28,
      "metadata": {},
      "outputs": [],
      "source": [
        "#Make the output easier to predict but dropping the number of responses from 5 to 4. This is done iteratively \n",
        "\n",
        "y_new_no_o = y_new.drop(['NEOFAC_O'], axis = 1, inplace = False)\n",
        "y_new_no_c = y_new.drop(['NEOFAC_C'], axis = 1, inplace = False)\n",
        "y_new_no_e = y_new.drop(['NEOFAC_E'], axis = 1, inplace = False)\n",
        "y_new_no_a = y_new.drop(['NEOFAC_A'], axis = 1, inplace = False)\n",
        "y_new_no_n = y_new.drop(['NEOFAC_N'], axis = 1, inplace = False)"
      ]
    },
    {
      "cell_type": "code",
      "execution_count": 29,
      "metadata": {},
      "outputs": [
        {
          "name": "stdout",
          "output_type": "stream",
          "text": [
            "7/7 [==============================] - 0s 833us/step - loss: 0.4870 - accuracy: 0.1667 - precision_2: 0.7327 - recall_2: 0.9760\n",
            "7/7 [==============================] - 0s 834us/step - loss: 0.5292 - accuracy: 0.8198 - precision_3: 0.7005 - recall_3: 0.7660\n",
            "7/7 [==============================] - 0s 834us/step - loss: 0.5032 - accuracy: 0.1171 - precision_4: 0.7725 - recall_4: 0.7831\n",
            "7/7 [==============================] - 0s 667us/step - loss: 0.5130 - accuracy: 0.5180 - precision_5: 0.7252 - recall_5: 0.7722\n",
            "7/7 [==============================] - 0s 667us/step - loss: 0.5977 - accuracy: 0.1171 - precision_6: 0.7327 - recall_6: 0.8546\n"
          ]
        }
      ],
      "source": [
        "\n",
        "CEAN_1 = tensor_flow_categorical(new_X, y_new_no_o, 4)\n",
        "OEAN_2 = tensor_flow_categorical(new_X, y_new_no_c, 4)\n",
        "OCAN_3 = tensor_flow_categorical(new_X, y_new_no_e, 4)\n",
        "OCEN_4 = tensor_flow_categorical(new_X, y_new_no_a, 4)\n",
        "OCEA_5 = tensor_flow_categorical(new_X, y_new_no_n, 4)"
      ]
    },
    {
      "cell_type": "code",
      "execution_count": 30,
      "metadata": {},
      "outputs": [
        {
          "data": {
            "text/html": [
              "<div>\n",
              "<style scoped>\n",
              "    .dataframe tbody tr th:only-of-type {\n",
              "        vertical-align: middle;\n",
              "    }\n",
              "\n",
              "    .dataframe tbody tr th {\n",
              "        vertical-align: top;\n",
              "    }\n",
              "\n",
              "    .dataframe thead th {\n",
              "        text-align: right;\n",
              "    }\n",
              "</style>\n",
              "<table border=\"1\" class=\"dataframe\">\n",
              "  <thead>\n",
              "    <tr style=\"text-align: right;\">\n",
              "      <th></th>\n",
              "      <th>Metrics</th>\n",
              "      <th>CEAN_1</th>\n",
              "      <th>OEAN_2</th>\n",
              "      <th>OCAN_3</th>\n",
              "      <th>OCEN_4</th>\n",
              "      <th>OCEA_5</th>\n",
              "    </tr>\n",
              "  </thead>\n",
              "  <tbody>\n",
              "    <tr>\n",
              "      <th>0</th>\n",
              "      <td>Loss</td>\n",
              "      <td>0.487034</td>\n",
              "      <td>0.529224</td>\n",
              "      <td>0.503169</td>\n",
              "      <td>0.512985</td>\n",
              "      <td>0.597744</td>\n",
              "    </tr>\n",
              "    <tr>\n",
              "      <th>1</th>\n",
              "      <td>Accuracy</td>\n",
              "      <td>0.166667</td>\n",
              "      <td>0.819820</td>\n",
              "      <td>0.117117</td>\n",
              "      <td>0.518018</td>\n",
              "      <td>0.117117</td>\n",
              "    </tr>\n",
              "    <tr>\n",
              "      <th>2</th>\n",
              "      <td>Precision</td>\n",
              "      <td>0.732733</td>\n",
              "      <td>0.700450</td>\n",
              "      <td>0.772523</td>\n",
              "      <td>0.725225</td>\n",
              "      <td>0.732733</td>\n",
              "    </tr>\n",
              "    <tr>\n",
              "      <th>3</th>\n",
              "      <td>Recall</td>\n",
              "      <td>0.976000</td>\n",
              "      <td>0.766010</td>\n",
              "      <td>0.783105</td>\n",
              "      <td>0.772182</td>\n",
              "      <td>0.854641</td>\n",
              "    </tr>\n",
              "  </tbody>\n",
              "</table>\n",
              "</div>"
            ],
            "text/plain": [
              "     Metrics    CEAN_1    OEAN_2    OCAN_3    OCEN_4    OCEA_5\n",
              "0       Loss  0.487034  0.529224  0.503169  0.512985  0.597744\n",
              "1   Accuracy  0.166667  0.819820  0.117117  0.518018  0.117117\n",
              "2  Precision  0.732733  0.700450  0.772523  0.725225  0.732733\n",
              "3     Recall  0.976000  0.766010  0.783105  0.772182  0.854641"
            ]
          },
          "execution_count": 30,
          "metadata": {},
          "output_type": "execute_result"
        }
      ],
      "source": [
        "df_new = pd.DataFrame({ 'CEAN_1': CEAN_1, 'OEAN_2': OEAN_2,  'OCAN_3': OCAN_3, 'OCEN_4' : OCEN_4, 'OCEA_5': OCEA_5  })\n",
        "df_new.insert(0, 'Metrics',  ['Loss', 'Accuracy', 'Precision', 'Recall'])\n",
        "df_new\n"
      ]
    },
    {
      "cell_type": "code",
      "execution_count": 31,
      "metadata": {},
      "outputs": [
        {
          "data": {
            "text/plain": [
              "<matplotlib.legend.Legend at 0x12bcfc87580>"
            ]
          },
          "execution_count": 31,
          "metadata": {},
          "output_type": "execute_result"
        },
        {
          "data": {
            "image/png": "[encoded data removed]",
            "text/plain": [
              "<Figure size 1008x504 with 1 Axes>"
            ]
          },
          "metadata": {
            "needs_background": "light"
          },
          "output_type": "display_data"
        }
      ],
      "source": [
        "df_new = df_new.set_index('Metrics')\n",
        "df1_new = df_new.T\n",
        "\n",
        "plt.figure(figsize=(14, 7))\n",
        "x_axis = np.arange(len(df1_new.index))\n",
        "plt.bar(x_axis, df1_new[\"Accuracy\"], color=\"maroon\",label='accuracy',width=0.4) \n",
        "plt.bar(x_axis+0.2,df1_new[\"Loss\"],label='loss',width=0.2 )\n",
        "plt.bar(x_axis+0.4, df1_new[\"Precision\"], color=\"green\",label='precision',width=0.2)\n",
        "plt.bar(x_axis+0.6, df1_new[\"Recall\"], color=\"orange\",label='recall',width=0.2)\n",
        "plt.xticks(x_axis,df1_new.index)\n",
        "plt.legend()\n",
        "\n",
        "\n",
        "#relying primarly on the accuracy metric we can see that using OEAN_2 (droping conscientious) results in the best model"
      ]
    },
    {
      "cell_type": "markdown",
      "metadata": {},
      "source": [
        "By dropping the response variable conscientiousness the accuracy of the model increases from 12% to 82%. It possible that conscientiousness is related to brain structures outside of dataset."
      ]
    },
    {
      "cell_type": "markdown",
      "metadata": {},
      "source": [
        " ## <span style = 'color: DodgerBlue'> Retest Regression"
      ]
    },
    {
      "cell_type": "code",
      "execution_count": 32,
      "metadata": {},
      "outputs": [
        {
          "name": "stdout",
          "output_type": "stream",
          "text": [
            "7/7 [==============================] - 0s 833us/step - loss: 25.4823 - r_square: -18.8191 - mae: 25.4823 - mse: 737.7343\n"
          ]
        },
        {
          "data": {
            "text/plain": [
              "[25.482288360595703,\n",
              " -18.819103240966797,\n",
              " 25.482288360595703,\n",
              " 737.7343139648438]"
            ]
          },
          "execution_count": 32,
          "metadata": {},
          "output_type": "execute_result"
        }
      ],
      "source": [
        "#To elimnate the possibility that conscientiousness was responsible for the low R-Sqaures , conscientiousness was dropped from response variables and regression was used. However the r-square did not improve. \n",
        "\n",
        "y_new1 = y.drop('NEOFAC_C', axis = 1)\n",
        "tensor_flow_regression(new_X,  y_new1, 4 )"
      ]
    },
    {
      "cell_type": "markdown",
      "metadata": {},
      "source": [
        " ## <span style = 'color: DodgerBlue'> Gender & Brain Structures "
      ]
    },
    {
      "cell_type": "markdown",
      "metadata": {},
      "source": [
        "Given that there are reliable differences between male and female brains I decided to see if gender would have an effect on the accuracy of the models."
      ]
    },
    {
      "cell_type": "code",
      "execution_count": 33,
      "metadata": {},
      "outputs": [
        {
          "data": {
            "text/plain": [
              "(1106, 1)"
            ]
          },
          "execution_count": 33,
          "metadata": {},
          "output_type": "execute_result"
        }
      ],
      "source": [
        "#isolate Gender from oringal dataframe, rejoin with df and then drop null values\n",
        "\n",
        "alpha = pd.merge(df, data[['Gender']], how = 'inner', left_index= True, right_index= True)\n",
        "alpha1 = alpha.dropna()\n",
        "gender = alpha1[['Gender']]\n",
        "gender.shape"
      ]
    },
    {
      "cell_type": "code",
      "execution_count": 34,
      "metadata": {},
      "outputs": [],
      "source": [
        "bravo = pd.merge(new_X, gender, how = 'inner', left_index= True, right_index= True)"
      ]
    },
    {
      "cell_type": "code",
      "execution_count": 35,
      "metadata": {},
      "outputs": [
        {
          "data": {
            "text/plain": [
              "(506, 600)"
            ]
          },
          "execution_count": 35,
          "metadata": {},
          "output_type": "execute_result"
        }
      ],
      "source": [
        "male_feature = bravo.loc[bravo['Gender'] == 'M']\n",
        "male_feature1 = male_feature.drop('Gender', axis= 1)\n",
        "female_feature = bravo.loc[bravo['Gender'] == 'F']\n",
        "female_feature1 = female_feature.drop('Gender' , axis =1 )\n",
        "len(male_feature1), len(female_feature1)"
      ]
    },
    {
      "cell_type": "code",
      "execution_count": 36,
      "metadata": {},
      "outputs": [
        {
          "data": {
            "text/plain": [
              "(506, 600)"
            ]
          },
          "execution_count": 36,
          "metadata": {},
          "output_type": "execute_result"
        }
      ],
      "source": [
        "charlie= pd.merge(gender, y_new_no_c, how = 'inner', left_index= True, right_index= True)\n",
        "\n",
        "male_response = charlie.loc[alpha['Gender'] == 'M']\n",
        "male_response1 = male_response.drop('Gender', axis = 1)\n",
        "female_response = charlie.loc[charlie['Gender'] == 'F']\n",
        "female_response1 = female_response.drop('Gender', axis = 1)\n",
        "len(male_response1), len(female_response1)"
      ]
    },
    {
      "cell_type": "code",
      "execution_count": 37,
      "metadata": {},
      "outputs": [
        {
          "name": "stdout",
          "output_type": "stream",
          "text": [
            "4/4 [==============================] - 0s 1ms/step - loss: 0.6049 - accuracy: 0.7647 - precision_7: 0.6716 - recall_7: 0.7098\n",
            "4/4 [==============================] - 0s 1ms/step - loss: 0.4951 - accuracy: 0.9000 - precision_8: 0.7458 - recall_8: 0.7885\n"
          ]
        }
      ],
      "source": [
        "male = tensor_flow_categorical(male_feature1, male_response1, 4)\n",
        "female = tensor_flow_categorical(female_feature1, female_response1, 4)"
      ]
    },
    {
      "cell_type": "code",
      "execution_count": 38,
      "metadata": {},
      "outputs": [
        {
          "data": {
            "text/html": [
              "<div>\n",
              "<style scoped>\n",
              "    .dataframe tbody tr th:only-of-type {\n",
              "        vertical-align: middle;\n",
              "    }\n",
              "\n",
              "    .dataframe tbody tr th {\n",
              "        vertical-align: top;\n",
              "    }\n",
              "\n",
              "    .dataframe thead th {\n",
              "        text-align: right;\n",
              "    }\n",
              "</style>\n",
              "<table border=\"1\" class=\"dataframe\">\n",
              "  <thead>\n",
              "    <tr style=\"text-align: right;\">\n",
              "      <th></th>\n",
              "      <th>Male</th>\n",
              "      <th>Female</th>\n",
              "    </tr>\n",
              "  </thead>\n",
              "  <tbody>\n",
              "    <tr>\n",
              "      <th>Loss</th>\n",
              "      <td>0.604861</td>\n",
              "      <td>0.495131</td>\n",
              "    </tr>\n",
              "    <tr>\n",
              "      <th>Accuracy</th>\n",
              "      <td>0.764706</td>\n",
              "      <td>0.900000</td>\n",
              "    </tr>\n",
              "    <tr>\n",
              "      <th>Precision</th>\n",
              "      <td>0.671569</td>\n",
              "      <td>0.745833</td>\n",
              "    </tr>\n",
              "    <tr>\n",
              "      <th>Recall</th>\n",
              "      <td>0.709845</td>\n",
              "      <td>0.788546</td>\n",
              "    </tr>\n",
              "  </tbody>\n",
              "</table>\n",
              "</div>"
            ],
            "text/plain": [
              "               Male    Female\n",
              "Loss       0.604861  0.495131\n",
              "Accuracy   0.764706  0.900000\n",
              "Precision  0.671569  0.745833\n",
              "Recall     0.709845  0.788546"
            ]
          },
          "execution_count": 38,
          "metadata": {},
          "output_type": "execute_result"
        }
      ],
      "source": [
        "male_female = pd.DataFrame({'Male': male, 'Female': female }, index =  ['Loss', 'Accuracy', 'Precision', 'Recall'] )\n",
        "male_female"
      ]
    },
    {
      "cell_type": "code",
      "execution_count": 39,
      "metadata": {},
      "outputs": [
        {
          "data": {
            "text/plain": [
              "<matplotlib.legend.Legend at 0x12bd6fe1520>"
            ]
          },
          "execution_count": 39,
          "metadata": {},
          "output_type": "execute_result"
        },
        {
          "data": {
            "image/png": "[encoded data removed]",
            "text/plain": [
              "<Figure size 576x432 with 1 Axes>"
            ]
          },
          "metadata": {
            "needs_background": "light"
          },
          "output_type": "display_data"
        }
      ],
      "source": [
        "plt.figure(figsize=(8, 6))\n",
        "x_axis = np.arange(len(male_female.T))\n",
        "plt.bar(x_axis, male_female.T[\"Accuracy\"], color=\"maroon\",label='accuracy',width=0.4) \n",
        "plt.bar(x_axis+0.2,male_female.T[\"Loss\"],label='loss',width=0.2 )\n",
        "plt.bar(x_axis+0.4, male_female.T[\"Precision\"], color=\"green\",label='precision',width=0.2)\n",
        "plt.bar(x_axis+0.6, male_female.T[\"Recall\"], color=\"orange\",label='recall',width=0.2)\n",
        "plt.xticks(x_axis, male_female)\n",
        "plt.legend()"
      ]
    },
    {
      "cell_type": "markdown",
      "metadata": {},
      "source": [
        "The accuracy for females was 90% a higher score than males which was 76%. I hypothesized that this could be due to a  (contentious) theory known as the variablity hypothesis. Which states that in many instances of men comparisions between men and women, the variablity among men is greater than variablity of women. On example of this which was observed by Charles Darwin is the sizes of hands. There is greater variablity in the size of mens hands then there are in women. To check this hyposthesis I look at the standard deviation of men and women in the feature and response variables. \n"
      ]
    },
    {
      "cell_type": "code",
      "execution_count": 40,
      "metadata": {},
      "outputs": [],
      "source": [
        "male_std = np.round(np.mean(male_feature1.std()), 2)\n",
        "female_std = np.round(np.mean(female_feature1.std()), 2)"
      ]
    },
    {
      "cell_type": "code",
      "execution_count": 41,
      "metadata": {},
      "outputs": [
        {
          "data": {
            "text/html": [
              "<div>\n",
              "<style scoped>\n",
              "    .dataframe tbody tr th:only-of-type {\n",
              "        vertical-align: middle;\n",
              "    }\n",
              "\n",
              "    .dataframe tbody tr th {\n",
              "        vertical-align: top;\n",
              "    }\n",
              "\n",
              "    .dataframe thead th {\n",
              "        text-align: right;\n",
              "    }\n",
              "</style>\n",
              "<table border=\"1\" class=\"dataframe\">\n",
              "  <thead>\n",
              "    <tr style=\"text-align: right;\">\n",
              "      <th></th>\n",
              "      <th>Gender</th>\n",
              "      <th>NEOFAC_A</th>\n",
              "      <th>NEOFAC_O</th>\n",
              "      <th>NEOFAC_C</th>\n",
              "      <th>NEOFAC_N</th>\n",
              "      <th>NEOFAC_E</th>\n",
              "    </tr>\n",
              "  </thead>\n",
              "  <tbody>\n",
              "    <tr>\n",
              "      <th>1</th>\n",
              "      <td>M</td>\n",
              "      <td>29.0</td>\n",
              "      <td>23.0</td>\n",
              "      <td>26.0</td>\n",
              "      <td>21.0</td>\n",
              "      <td>32.0</td>\n",
              "    </tr>\n",
              "    <tr>\n",
              "      <th>2</th>\n",
              "      <td>F</td>\n",
              "      <td>37.0</td>\n",
              "      <td>24.0</td>\n",
              "      <td>35.0</td>\n",
              "      <td>15.0</td>\n",
              "      <td>37.0</td>\n",
              "    </tr>\n",
              "    <tr>\n",
              "      <th>3</th>\n",
              "      <td>M</td>\n",
              "      <td>33.0</td>\n",
              "      <td>29.0</td>\n",
              "      <td>34.0</td>\n",
              "      <td>15.0</td>\n",
              "      <td>33.0</td>\n",
              "    </tr>\n",
              "    <tr>\n",
              "      <th>4</th>\n",
              "      <td>M</td>\n",
              "      <td>31.0</td>\n",
              "      <td>33.0</td>\n",
              "      <td>36.0</td>\n",
              "      <td>7.0</td>\n",
              "      <td>15.0</td>\n",
              "    </tr>\n",
              "    <tr>\n",
              "      <th>5</th>\n",
              "      <td>F</td>\n",
              "      <td>30.0</td>\n",
              "      <td>23.0</td>\n",
              "      <td>39.0</td>\n",
              "      <td>13.0</td>\n",
              "      <td>29.0</td>\n",
              "    </tr>\n",
              "  </tbody>\n",
              "</table>\n",
              "</div>"
            ],
            "text/plain": [
              "  Gender  NEOFAC_A  NEOFAC_O  NEOFAC_C  NEOFAC_N  NEOFAC_E\n",
              "1      M      29.0      23.0      26.0      21.0      32.0\n",
              "2      F      37.0      24.0      35.0      15.0      37.0\n",
              "3      M      33.0      29.0      34.0      15.0      33.0\n",
              "4      M      31.0      33.0      36.0       7.0      15.0\n",
              "5      F      30.0      23.0      39.0      13.0      29.0"
            ]
          },
          "execution_count": 41,
          "metadata": {},
          "output_type": "execute_result"
        }
      ],
      "source": [
        "delta = pd.merge(gender, y, how = 'inner', left_index= True, right_index= True)\n",
        "delta.head()"
      ]
    },
    {
      "cell_type": "code",
      "execution_count": 42,
      "metadata": {},
      "outputs": [],
      "source": [
        "male_delta = delta.loc[delta['Gender'] == 'M']\n",
        "female_delta = delta.loc[delta['Gender'] == 'F']\n",
        "male_delta1 = male_delta.drop('Gender', axis = 1)\n",
        "female_delta1 = female_delta.drop('Gender', axis= 1) "
      ]
    },
    {
      "cell_type": "code",
      "execution_count": 43,
      "metadata": {},
      "outputs": [
        {
          "data": {
            "text/plain": [
              "(6.36, 6.06)"
            ]
          },
          "execution_count": 43,
          "metadata": {},
          "output_type": "execute_result"
        }
      ],
      "source": [
        "f_delta = np.round(np.mean(female_delta1.std()),2)\n",
        "m_delta = np.round(np.mean(male_delta1.std()),2)\n",
        "\n",
        "m_delta, f_delta"
      ]
    },
    {
      "cell_type": "code",
      "execution_count": 44,
      "metadata": {},
      "outputs": [
        {
          "data": {
            "text/html": [
              "<div>\n",
              "<style scoped>\n",
              "    .dataframe tbody tr th:only-of-type {\n",
              "        vertical-align: middle;\n",
              "    }\n",
              "\n",
              "    .dataframe tbody tr th {\n",
              "        vertical-align: top;\n",
              "    }\n",
              "\n",
              "    .dataframe thead th {\n",
              "        text-align: right;\n",
              "    }\n",
              "</style>\n",
              "<table border=\"1\" class=\"dataframe\">\n",
              "  <thead>\n",
              "    <tr style=\"text-align: right;\">\n",
              "      <th></th>\n",
              "      <th>Male_Std</th>\n",
              "      <th>Female_Std</th>\n",
              "    </tr>\n",
              "  </thead>\n",
              "  <tbody>\n",
              "    <tr>\n",
              "      <th>Brain Structure</th>\n",
              "      <td>796.38</td>\n",
              "      <td>919.87</td>\n",
              "    </tr>\n",
              "    <tr>\n",
              "      <th>Personality</th>\n",
              "      <td>6.36</td>\n",
              "      <td>6.06</td>\n",
              "    </tr>\n",
              "  </tbody>\n",
              "</table>\n",
              "</div>"
            ],
            "text/plain": [
              "                 Male_Std  Female_Std\n",
              "Brain Structure    796.38      919.87\n",
              "Personality          6.36        6.06"
            ]
          },
          "execution_count": 44,
          "metadata": {},
          "output_type": "execute_result"
        }
      ],
      "source": [
        "gender_std = pd.DataFrame({'Male_Std': [male_std, m_delta], 'Female_Std': [female_std, f_delta]}, index = ['Brain Structure', 'Personality'])\n",
        "gender_std\n",
        "\n",
        "# accuracy of females is greater becasue of reduced variablity leading to a smaller standard deviation"
      ]
    },
    {
      "cell_type": "markdown",
      "metadata": {},
      "source": [
        "My hypothesis proved correct, the standard deviation for women was smaller than that of men which is why the model had easier time predicting women"
      ]
    },
    {
      "cell_type": "markdown",
      "metadata": {},
      "source": [
        "<u> Conclusion </u>:   I was able to succesfully use the size of brain structures to predict the personality of individual as determined by the Big Five taxomony. This was accomplished using Deep Learning  Sequential Model. The accuracy of the model was dependent on several dimensionality reduction techniques, primarely changing the response variables from  continious to categorical and droping the conscientiousness variable.\n",
        "\n",
        "As a secondary findings it was discovered that the model was better able to predict female personality than male. It was demonstrated that this was due the reduced variabilty in female brain structure sizes and personality scores. This finding supports the variablity hypothesis of the sexes."
      ]
    }
  ],
  "metadata": {
    "colab": {
      "collapsed_sections": [],
      "name": "CodeToDeliver.ipynb",
      "provenance": []
    },
    "kernelspec": {
      "display_name": "Python 3.9.13 64-bit (windows store)",
      "language": "python",
      "name": "python3"
    },
    "language_info": {
      "codemirror_mode": {
        "name": "ipython",
        "version": 3
      },
      "file_extension": ".py",
      "mimetype": "text/x-python",
      "name": "python",
      "nbconvert_exporter": "python",
      "pygments_lexer": "ipython3",
      "version": "3.9.13"
    },
    "vscode": {
      "interpreter": {
        "hash": "30fb55f82537a2b40570f3a17d5c10f8dd9ee29a28db40c4c7d2c6eec1ee76be"
      }
    }
  },
  "nbformat": 4,
  "nbformat_minor": 0
}
